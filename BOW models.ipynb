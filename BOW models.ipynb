{
  "cells": [
    {
      "cell_type": "markdown",
      "metadata": {
        "id": "9iJAShrD558V"
      },
      "source": [
        "## Overview\n",
        "\n",
        "We are going to practice converting raw (string form) text into a useful data set using the script of *Pirates of the Caribbean: The Curse of the Black Pearl* (2003), the first in a series of PotC movies starring Johnny Depp. The script is part of the `webtext` corpus in NLTK.\n",
        "\n",
        "Under the assumption that we wish to perform an analysis of the words spoken by the characters in the movie, we will convert the text in a series of steps from a raw string of ASCII characters into a dictionary holding a sparse BOW model of the words spoken by two of the main characters, Elizabeth Swann and Jack Sparrow. These dictionaries could be the data set for a classification task, or for creating a vector-space model for each character, which we will study later in the course. For this assignment, you will clean  up, normalize and tokenize the text, create the dictionaries, and then simply print out the most common words spoken by the\n",
        "two characters.\n",
        "\n",
        "Text normalization was covered in lecture on Tuesday 9/12 and the BOW model on Thursday 9/14. Before beginning the assignment, you should\n",
        "consult the following for information on using the Python regular expression library:\n",
        "\n",
        "https://docs.python.org/3/library/re.html\n",
        "\n",
        "Also useful is\n",
        "\n",
        "https://docs.python.org/3/howto/regex.html\n",
        "\n",
        "After reviewing the basic principles of regular expressions (which I will review in my walk-through video), read about the following useful functions:\n",
        "\n",
        "    result = re.split(...)\n",
        "    \n",
        "    result = re.sub(...)\n",
        "    \n",
        "You may ONLY use standard functions from the `re` library for this homework,   and you must\n",
        "perform your normalization starting with the string form of the script assigned below to the variable `pirates_txt`. You may NOT use indices of the string to perform your modifications (e.g., deleting the first line by counting how many characters to remove).\n",
        "\n",
        "The point here is to use regular expressions to do the text wrangling. Don't worry,\n",
        "we shall use the `SpaCy` library later on the course to normalize text for a classification problem set."
      ]
    },
    {
      "cell_type": "code",
      "execution_count": null,
      "metadata": {
        "colab": {
          "base_uri": "https://localhost:8080/"
        },
        "id": "dD1-KRE1558W",
        "outputId": "4444932c-f786-4cee-a532-6682390d2ed7"
      },
      "outputs": [
        {
          "name": "stderr",
          "output_type": "stream",
          "text": [
            "[nltk_data] Downloading package webtext to /root/nltk_data...\n",
            "[nltk_data]   Package webtext is already up-to-date!\n"
          ]
        }
      ],
      "source": [
        "import numpy as np\n",
        "import nltk\n",
        "import re\n",
        "\n",
        "# The first time you will need to download the corpus:\n",
        "\n",
        "nltk.download('webtext')\n",
        "\n",
        "pirates_txt = nltk.corpus.webtext.raw('pirates.txt')"
      ]
    },
    {
      "cell_type": "code",
      "execution_count": null,
      "metadata": {
        "colab": {
          "base_uri": "https://localhost:8080/",
          "height": 140
        },
        "id": "yUdo2LMn558X",
        "outputId": "7a01c10a-3aa1-406e-98fb-18f73396695a",
        "scrolled": true
      },
      "outputs": [
        {
          "data": {
            "application/vnd.google.colaboratory.intrinsic+json": {
              "type": "string"
            },
            "text/plain": [
              "\"PIRATES OF THE CARRIBEAN: DEAD MAN'S CHEST, by Ted Elliott & Terry Rossio\\n[view looking straight down at rolling swells, sound of wind and thunder, then a low heartbeat]\\nScene: PORT ROYAL\\n[teacups on a table in the rain]\\n[sheet music on music stands in the rain]\\n[bouquet of white orchids, Elizabeth sitting in the rain holding the bouquet]\\n[men rowing, men on horseback, to the sound of thunder]\\n[EITC logo on flag blowing in the wind]\\n[many rowboats are entering the harbor]\\n[Elizabeth sitting alone, at a distance]\\n[marines running, kick a door in] \\n[a mule is seen on the left in the barn where the marines enter]\\n[Liz looking over her shoulder]\\n[Elizabeth drops her bouquet]\\n[Will is in manacles, being escorted by red coats]\\nELIZABETH SWANN: Will...!\\n[Elizabeth runs to Will]\\nELIZABETH SWANN: Why is this happening? \\nWILL TURNER: I don't know. You look beautiful.\\nELIZABETH SWANN: I think it's bad luck for the groom to see the bride before the wedding.\\n[marines cross their long axes to bar Go\""
            ]
          },
          "execution_count": 2,
          "metadata": {},
          "output_type": "execute_result"
        }
      ],
      "source": [
        "# raw string form\n",
        "pirates_txt[:1000]"
      ]
    },
    {
      "cell_type": "code",
      "execution_count": null,
      "metadata": {
        "colab": {
          "base_uri": "https://localhost:8080/"
        },
        "id": "OyogVW0S558Y",
        "outputId": "4735f240-c24a-4b38-86a1-d5824d3a7b9c",
        "scrolled": false
      },
      "outputs": [
        {
          "name": "stdout",
          "output_type": "stream",
          "text": [
            "PIRATES OF THE CARRIBEAN: DEAD MAN'S CHEST, by Ted Elliott & Terry Rossio\n",
            "[view looking straight down at rolling swells, sound of wind and thunder, then a low heartbeat]\n",
            "Scene: PORT ROYAL\n",
            "[teacups on a table in the rain]\n",
            "[sheet music on music stands in the rain]\n",
            "[bouquet of white orchids, Elizabeth sitting in the rain holding the bouquet]\n",
            "[men rowing, men on horseback, to the sound of thunder]\n",
            "[EITC logo on flag blowing in the wind]\n",
            "[many rowboats are entering the harbor]\n",
            "[Elizabeth sitting alone, at a distance]\n",
            "[marines running, kick a door in] \n",
            "[a mule is seen on the left in the barn where the marines enter]\n",
            "[Liz looking over her shoulder]\n",
            "[Elizabeth drops her bouquet]\n",
            "[Will is in manacles, being escorted by red coats]\n",
            "ELIZABETH SWANN: Will...!\n",
            "[Elizabeth runs to Will]\n",
            "ELIZABETH SWANN: Why is this happening? \n",
            "WILL TURNER: I don't know. You look beautiful.\n",
            "ELIZABETH SWANN: I think it's bad luck for the groom to see the bride before the wedding.\n",
            "[marines cross their long axes to bar Go\n"
          ]
        }
      ],
      "source": [
        "# printing it shows the formatting\n",
        "print(pirates_txt[:1000])"
      ]
    },
    {
      "cell_type": "markdown",
      "metadata": {
        "id": "3tmR1VB4558Y"
      },
      "source": [
        "## Problem One (35 points): Cleaning up the lines\n",
        "\n",
        "The first task is to clean up the text so that at the conclusion of\n",
        "this problem, you will have a text with punctuation and extraneous\n",
        "characters removed, and each line consisting of a character's name\n",
        "(human or otherwise), a colon, and a sequence of words, ending in a newline.  \n",
        "(You will keep this as a single string until Problem 3, but we will\n",
        "refer to the \"lines\" spoken by each character -- also, I hope it\n",
        "will not be confusing to speak of (ASCII) characters and characters played\n",
        "by the actors in the script!)\n",
        "\n",
        "\n",
        "### Part 1.A (5 pts)\n",
        "\n",
        "1. Convert the string into all lower-case letters.\n",
        "\n",
        "2. Remove the first line which gives the title and authors. Print out the first 200 characters to show that you have done this.\n",
        "\n",
        "Hint:  Cut everything before the first '\\n', using the 'beginning of string' special character `^` in the regular expression."
      ]
    },
    {
      "cell_type": "code",
      "execution_count": null,
      "metadata": {
        "colab": {
          "base_uri": "https://localhost:8080/",
          "height": 54
        },
        "id": "G7nxvzoL558Z",
        "outputId": "d37d5e2a-6f65-4311-9592-5abf0a259dcd",
        "scrolled": false
      },
      "outputs": [
        {
          "data": {
            "application/vnd.google.colaboratory.intrinsic+json": {
              "type": "string"
            },
            "text/plain": [
              "'[view looking straight down at rolling swells, sound of wind and thunder, then a low heartbeat]\\nscene: port royal\\n[teacups on a table in the rain]\\n[sheet music on music stands in the rain]\\n[bouquet of'"
            ]
          },
          "execution_count": 4,
          "metadata": {},
          "output_type": "execute_result"
        }
      ],
      "source": [
        "# Your code here\n",
        "pirates_txt_01=pirates_txt.lower()# Lower case character\n",
        "pirates_txt_01=re.sub('^.*\\n','',pirates_txt_01)# Removing first line\n",
        "pirates_txt_01[:200]"
      ]
    },
    {
      "cell_type": "markdown",
      "metadata": {
        "id": "IPzNU0qQ558Z"
      },
      "source": [
        "### Part 1.B (5 pts)\n",
        "\n",
        "Cut out all the stage directions that are given in square brackets, including the newlines on those lines.  Print out the first 200 characters as proof.  "
      ]
    },
    {
      "cell_type": "code",
      "execution_count": null,
      "metadata": {
        "colab": {
          "base_uri": "https://localhost:8080/",
          "height": 54
        },
        "id": "uAFojNFt558Z",
        "outputId": "e7f07daa-2a28-483c-e8be-2f55be0b6550",
        "scrolled": false
      },
      "outputs": [
        {
          "data": {
            "application/vnd.google.colaboratory.intrinsic+json": {
              "type": "string"
            },
            "text/plain": [
              "\"scene: port royal\\nelizabeth swann: will...!\\nelizabeth swann: why is this happening? \\nwill turner: i don't know. you look beautiful.\\nelizabeth swann: i think it's bad luck for the groom to see the brid\""
            ]
          },
          "execution_count": 5,
          "metadata": {},
          "output_type": "execute_result"
        }
      ],
      "source": [
        "# Your code here\n",
        "pirates_txt_01=re.sub('\\[.*\\]*\\n','',pirates_txt_01)# Removing stage directions\n",
        "pirates_txt_01[:200]"
      ]
    },
    {
      "cell_type": "markdown",
      "metadata": {
        "id": "Ev2Dk3jq558Z"
      },
      "source": [
        "### Part 1.C (5 pts)\n",
        "\n",
        "Cut out the lines where the 'scene' is specified.  Again, print out the first 200 characters."
      ]
    },
    {
      "cell_type": "code",
      "execution_count": null,
      "metadata": {
        "colab": {
          "base_uri": "https://localhost:8080/",
          "height": 54
        },
        "id": "45WAfDNn558Z",
        "outputId": "6b1ac5a6-9123-4b85-ca1a-c649b7f078cd",
        "scrolled": false
      },
      "outputs": [
        {
          "data": {
            "application/vnd.google.colaboratory.intrinsic+json": {
              "type": "string"
            },
            "text/plain": [
              "\"elizabeth swann: will...!\\nelizabeth swann: why is this happening? \\nwill turner: i don't know. you look beautiful.\\nelizabeth swann: i think it's bad luck for the groom to see the bride before the weddi\""
            ]
          },
          "execution_count": 6,
          "metadata": {},
          "output_type": "execute_result"
        }
      ],
      "source": [
        "# Your code here\n",
        "pirates_txt_01=re.sub('scene:.*\\n','',pirates_txt_01)# Removing scene directions\n",
        "pirates_txt_01[:200]"
      ]
    },
    {
      "cell_type": "markdown",
      "metadata": {
        "id": "DklIabS5558a"
      },
      "source": [
        "### Part 1.D (20 pts)\n",
        "\n",
        "Now, we still have a lot of punctuation and some miscellaneous odd things occurring in this text, and we need to\n",
        "do further cleaning. But you will have to figure this out for yourself!\n",
        "\n",
        "The main thing to do is to remove punctuation and anything that does not\n",
        "contribute to the goal of making a BOW model for our two characters.\n",
        "\n",
        "But you can't just remove all non-word characters! Make sure you take account of the following:\n",
        "\n",
        "1. You need to keep the character's names at the beginning of the line, so\n",
        "**do not remove the colon after the name** (note that these always occur at the beginning\n",
        "of a line, i.e., at the very beginning or immediately after the newline from the previous line).\n",
        "\n",
        "2. In the next problem we will normalize the words, so **we DON'T want to change\n",
        "anything that might be a word,** such as,\n",
        "\n",
        "           charges    don't     it's    'er   ah-ha      ha-ha-ha-ha-ha     stealin'   \n",
        "     \n",
        "3. After observing the caveats above, **remove all punctuation.**\n",
        "\n",
        "\n",
        "4. There are some places where apparently the transcriber was not sure what the word\n",
        "was and gave alternatives:\n",
        "\n",
        "            weren't/wasn't\n",
        "    \n",
        "    and some places where it is not clear what is intended:\n",
        "\n",
        "            oy /quick\n",
        "            \n",
        "Just treat `/` like ordinary punctuation and replace it by a blank.\n",
        "    \n",
        "5. Finally, there are miscellanous weird things in the text, such as\n",
        "\n",
        "        ###         ?:    \n",
        "        \n",
        "   (and possibly others) which **should be removed.**\n",
        "\n",
        "**How to proceed:** To explore the data, print out the text after the modifications in Parts 1.A -- 1.D:\n",
        "\n",
        "    print(pirates_txt_01)\n",
        "\n",
        "and think about what needs to be removed, paying careful attention to the comments above. (You could use the `Find` function in your browser to flip through various possibilities.)\n",
        "\n",
        "After examining the text, **comment out the `print(pirates_txt_01)` so that we don't\n",
        "have to look at it!** This was just for exploration!\n",
        "\n",
        "The result of your cleaning in this part should be assigned to `pirates_txt_01`.\n",
        "\n",
        "Hint: At this stage, it might be better to **replace substrings with blanks** instead\n",
        "of deleting them (replacing with the empty string) to preserve the separation\n",
        "of words (just in case!).  "
      ]
    },
    {
      "cell_type": "markdown",
      "metadata": {
        "id": "LIRpCo7K558a"
      },
      "source": [
        "#### Part 1.D.1 (5 pts)\n",
        "\n",
        "Write a short description here of what you removed, giving your reasoning. You must\n",
        "account for at least what is listed above, but you may find other things you\n",
        "want to change.\n",
        "\n",
        "The following steps are followed to clean up the text:\n",
        "1. All the ':' at the start of each line indicating any character where changed to upper case 'A' since no other character will match that(all are lower case) it will remain intact till end of manipulations.\n",
        "2. Handling * and #: All stars and hashes can be safely removed as they are irrelevant in the text.\n",
        "3. All multiple punctuations are removed except cases followed by new line,gaps or other letters to not eleminate cases like heh-heh and eliminate ?:,###.\n",
        "4. In the next step, any punctuation preceeded by letters or space or nothing and succeeded by space and new line are eliminated like ' s.' or any character at end of line.\n",
        "5. The next step eliminates characters at start of line like ' .a'.\n",
        "6. All blackshashes are replaced with space to handle instances like oy/quick.\n",
        "7. '. -e' is eliminated.\n",
        "8. Then all capital 'A's that was placed instead of first colons are replaced by colons again.\n",
        "\n",
        "Though the documentation mentions directly using \\w\\s for the correction I did everything step by step understanding each case we want to remove.\n",
        "\n",
        "Also print out some portion of the text to show at least some of the changes you have made."
      ]
    },
    {
      "cell_type": "markdown",
      "metadata": {
        "id": "cxqlK3hL558a"
      },
      "source": [
        "#### Part 1.D.2 (15 pts)\n",
        "\n",
        "Write your code in the following cell. The result at the end should\n",
        "be stored in `pirates_txt_01`.  Print out the first 2000 characters."
      ]
    },
    {
      "cell_type": "code",
      "execution_count": null,
      "metadata": {
        "colab": {
          "base_uri": "https://localhost:8080/"
        },
        "id": "IutdTiU0-vlR",
        "outputId": "c307837c-b000-49dc-8488-c3bbd78de456"
      },
      "outputs": [
        {
          "name": "stdout",
          "output_type": "stream",
          "text": [
            "elizabeth swann: will\n",
            "elizabeth swann: why is this happening \n",
            "will turner: i don't know you look beautiful\n",
            "elizabeth swann: i think it's bad luck for the groom to see the bride before the wedding\n",
            "lord cutler beckett: governor weatherby swann it's been too long\n",
            "lord cutler beckett: his lord now actually\n",
            "lord cutler beckett: in fact i do mister mercer the warrant for the arrest of one william turner\n",
            "lord cutler beckett: oh is it that's annoying my mistake arrest her\n",
            "elizabeth swann: on what charges\n",
            "will turner: no\n",
            "lord cutler beckett: ah-ha here's the one for william turner and i have another one for a mister james norrington is he present\n",
            "elizabeth swann: what are the charges\n",
            "lord cutler beckett: i don't believe that's the answer to the question i asked\n",
            "will turner: lord beckett in the category of questions not answered\n",
            "elizabeth swann: we are under the jurisdiction of the king's governor of port royal and you will tell us what we are charged with \n",
            "lord cutler beckett: for which the punishment regrettably is also death perhaps you remember a certain pirate named jack sparrow\n",
            "elizabeth swann: captain jack sparrow\n",
            "lord cutler beckett: captain jack sparrow yes i thought you might\n",
            "gibbs: fifteen men on a dead man's chest yo ho ho and a bottle of rum drink and the devil had done for the rest yo ho ho and a bottle of rum ha-ha-ha-ha-ha \n",
            "jack sparrow: sorry mate\n",
            "jack sparrow: mind if we make a little side trip i didn't think so\n",
            "gibbs: not quite according to plan\n",
            "jack sparrow: complications arose ensued were overcome\n",
            "gibbs: you got what you went in for then\n",
            "jack sparrow: mm-hmm\n",
            "gibbs: captain i think the crew meaning me as well were expecting something a bit more shiny what with the isla de muerta going all pear shaped reclaimed by the sea and the treasure with it \n",
            "leech: and the royal navy chasing us all around the atlantic \n",
            "marty: and the hurricane aye\n",
            "crew: aye aye\n",
            "gibbs: all in all it's seems some time since we did a speck of honest pirating\n",
            "jack sparrow: shiny\n",
            "gibbs: ay\n"
          ]
        }
      ],
      "source": [
        "import string\n",
        "string_end=string.punctuation[:6]+string.punctuation[7:]# Ruling out '\\'' case to keep headin' intact\n",
        "mod1=re.sub(r'([a-zA-Z]): ', r'\\1A ', pirates_txt_01)\n",
        "mod2=re.sub(r'\\*|\\#',r'',mod1)\n",
        "mod3=re.sub(r'([{}]+)(?!\\n|\\$|\\s|[a-z])'.format(re.escape(string_end)), '', mod2)\n",
        "mod4=re.sub(r'([a-z]| |)[{}]( |\\n)'.format(re.escape(string_end)),r'\\1\\2',mod3)\n",
        "mod5=re.sub(r'( )[{}]([a-z])'.format(re.escape(string_end)),r'\\1\\2',mod4)\n",
        "mod8=re.sub(r'[/]',r' ',mod5)\n",
        "mod9=re.sub(r'. -e',r'',mod8)\n",
        "pirates_txt_01=re.sub(r'A',r':',mod9)\n",
        "\n",
        "print(pirates_txt_01[:2000])\n",
        "\n"
      ]
    },
    {
      "cell_type": "markdown",
      "metadata": {
        "id": "3A_Brdmq558b"
      },
      "source": [
        "## Problem Two (30 points):  Normalizing, Stemming, and Lemmatization\n",
        "\n",
        "In this problem we are going to do **some** normalizing of the words, first of all to\n",
        "normalize certain words with apostrophes, and then performing stemming and lemmatization.\n",
        "We are not intended to be absolutely thorough here, just to try a few obvious\n",
        "possibilities.\n",
        "\n",
        "### Part 2.A Normalizing (15 pts)\n",
        "\n",
        "There are several ways that apostophes (single quotes) are used to\n",
        "compress two words into one (to give a better sense for how they\n",
        "are pronounced, *especially by pirates*):\n",
        "\n",
        "        didn't  =  did not    we've  = we have       there'd  = there would\n",
        "        \n",
        "**Your task:  Find as many examples of these as you can, and replace the\n",
        "compressed word with the two-word phrase it represents.**\n",
        "\n",
        "\n",
        "Note: **Do NOT process any words with `'s`,** as these will be done in the next part.\n",
        "\n",
        "Do NOT simply compile a list of specific examples, but look for general patterns\n",
        "for substitution, for example:\n",
        "\n",
        "              n't =>  _not       've =>  _have       # where _ represents a blank  \n",
        "   \n",
        "\n",
        "Simply find as many examples which seem to\n",
        "have a general rule, and perform those substitutions, putting the result in\n",
        "`pirates_txt_02`.\n",
        "\n",
        "Finally, print out the first 2000 characters."
      ]
    },
    {
      "cell_type": "code",
      "execution_count": null,
      "metadata": {
        "colab": {
          "base_uri": "https://localhost:8080/"
        },
        "id": "tS9bZ6Hf558b",
        "outputId": "ee76d1dd-c9b8-40f2-d910-1e0d269dd546",
        "scrolled": false
      },
      "outputs": [
        {
          "name": "stdout",
          "output_type": "stream",
          "text": [
            "elizabeth swann: will\n",
            "elizabeth swann: why is this happening \n",
            "will turner: i do not know you look beautiful\n",
            "elizabeth swann: i think it's bad luck for the groom to see the bride before the wedding\n",
            "lord cutler beckett: governor weatherby swann it's been too long\n",
            "lord cutler beckett: his lord now actually\n",
            "lord cutler beckett: in fact i do mister mercer the warrant for the arrest of one william turner\n",
            "lord cutler beckett: oh is it that's annoying my mistake arrest her\n",
            "elizabeth swann: on what charges\n",
            "will turner: no\n",
            "lord cutler beckett: ah-ha here's the one for william turner and i have another one for a mister james norrington is he present\n",
            "elizabeth swann: what are the charges\n",
            "lord cutler beckett: i do not believe that's the answer to the question i asked\n",
            "will turner: lord beckett in the category of questions not answered\n",
            "elizabeth swann: we are under the jurisdiction of the king's governor of port royal and you will tell us what we are charged with \n",
            "lord cutler beckett: for which the punishment regrettably is also death perhaps you remember a certain pirate named jack sparrow\n",
            "elizabeth swann: captain jack sparrow\n",
            "lord cutler beckett: captain jack sparrow yes i thought you might\n",
            "gibbs: fifteen men on a dead man's chest yo ho ho and a bottle of rum drink and the devil had done for the rest yo ho ho and a bottle of rum ha-ha-ha-ha-ha \n",
            "jack sparrow: sorry mate\n",
            "jack sparrow: mind if we make a little side trip i did not think so\n",
            "gibbs: not quite according to plan\n",
            "jack sparrow: complications arose ensued were overcome\n",
            "gibbs: you got what you went in for then\n",
            "jack sparrow: mm-hmm\n",
            "gibbs: captain i think the crew meaning me as well were expecting something a bit more shiny what with the isla de muerta going all pear shaped reclaimed by the sea and the treasure with it \n",
            "leech: and the royal navy chasing us all around the atlantic \n",
            "marty: and the hurricane aye\n",
            "crew: aye aye\n",
            "gibbs: all in all it's seems some time since we did a speck of honest pirating\n",
            "jack sparrow: shiny\n",
            "gibbs:\n"
          ]
        }
      ],
      "source": [
        "# Your code herer\n",
        "pirates_txt_02=re.sub('n\\'t',' not',pirates_txt_01)\n",
        "pirates_txt_02=re.sub('\\'re',' are',pirates_txt_02)\n",
        "pirates_txt_02=re.sub('\\'ve',' have',pirates_txt_02)\n",
        "pirates_txt_02=re.sub('\\'d',' would',pirates_txt_02)\n",
        "pirates_txt_02=re.sub('\\'m',' am',pirates_txt_02)\n",
        "pirates_txt_02=re.sub('\\'ll',' will',pirates_txt_02)\n",
        "pirates_txt_02=re.sub('d\\'',' do ',pirates_txt_02)\n",
        "print(pirates_txt_02[:2000])"
      ]
    },
    {
      "cell_type": "markdown",
      "metadata": {
        "id": "HstOfXZP558b"
      },
      "source": [
        "### Part 2.B  Stemming and Lemmatization (15 pts)\n",
        "\n",
        "#### Stemming\n",
        "\n",
        "There are multiple occurrence of the suffix `'s` in the text, some standing\n",
        "for a two word phrase:\n",
        "    \n",
        "       he's = he is       it's = it is       what's = what is     here's = here is\n",
        "       \n",
        "and some being possessives:\n",
        "\n",
        "       jack's     man's       hangman's\n",
        "       \n",
        "In the first case, the word `is` is very common, and would be removed later\n",
        "when we remove \"stop words\"; in the second, we will assume there is little\n",
        "difference in the BOW model between a noun and its possessive. So we will remove\n",
        "the `'s` from all words.\n",
        "\n",
        "#### Lemmatization\n",
        "\n",
        "There are eight \"official' different forms of the verb 'to be', all of which occur in the text. These must be replaced by the lemma 'be'. (These eight forms do not include modal expressions such as 'will be' or 'would be'.)\n",
        "\n",
        "**Your tasks:**  \n",
        "\n",
        "1. Stem these words by removing all instances of `'s`.  \n",
        "2. Lemmatize all the 8 forms of the verb 'to be' by replacing them by their stem 'be'. Be sure to ONLY replace separate words, not substrings of other words, i.e., don't change 'mistake' to 'mbetake'!\n",
        "3. Put the result in `pirates_txt_02` and print out the first 2000 characters."
      ]
    },
    {
      "cell_type": "code",
      "execution_count": null,
      "metadata": {
        "colab": {
          "base_uri": "https://localhost:8080/"
        },
        "id": "ssZVb93I558c",
        "outputId": "eeb55b46-8be4-4147-94a0-375a09d33910",
        "scrolled": false
      },
      "outputs": [
        {
          "name": "stdout",
          "output_type": "stream",
          "text": [
            "elizabeth swann: will\n",
            "elizabeth swann: why be this happening \n",
            "will turner: i do not know you look beautiful\n",
            "elizabeth swann: i think it bad luck for the groom to see the bride before the wedding\n",
            "lord cutler beckett: governor weatherby swann it be too long\n",
            "lord cutler beckett: his lord now actually\n",
            "lord cutler beckett: in fact i do mister mercer the warrant for the arrest of one william turner\n",
            "lord cutler beckett: oh be it that annoying my mistake arrest her\n",
            "elizabeth swann: on what charges\n",
            "will turner: no\n",
            "lord cutler beckett: ah-ha here the one for william turner and i have another one for a mister james norrington be he present\n",
            "elizabeth swann: what be the charges\n",
            "lord cutler beckett: i do not believe that the answer to the question i asked\n",
            "will turner: lord beckett in the category of questions not answered\n",
            "elizabeth swann: we be under the jurisdiction of the king governor of port royal and you will tell us what we be charged with \n",
            "lord cutler beckett: for which the punishment regrettably be also death perhaps you remember a certain pirate named jack sparrow\n",
            "elizabeth swann: captain jack sparrow\n",
            "lord cutler beckett: captain jack sparrow yes i thought you might\n",
            "gibbs: fifteen men on a dead man chest yo ho ho and a bottle of rum drink and the devil had done for the rest yo ho ho and a bottle of rum ha-ha-ha-ha-ha \n",
            "jack sparrow: sorry mate\n",
            "jack sparrow: mind if we make a little side trip i did not think so\n",
            "gibbs: not quite according to plan\n",
            "jack sparrow: complications arose ensued be overcome\n",
            "gibbs: you got what you went in for then\n",
            "jack sparrow: mm-hmm\n",
            "gibbs: captain i think the crew meaning me as well be expecting something a bit more shiny what with the isla de muerta going all pear shaped reclaimed by the sea and the treasure with it \n",
            "leech: and the royal navy chasing us all around the atlantic \n",
            "marty: and the hurricane aye\n",
            "crew: aye aye\n",
            "gibbs: all in all it seems some time since we did a speck of honest pirating\n",
            "jack sparrow: shiny\n",
            "gibbs: aye shiny\n",
            "jack sparrow: \n"
          ]
        }
      ],
      "source": [
        "# Your code here\n",
        "pirates_txt_02=re.sub('\\'s','',pirates_txt_02)# removing '\\'s'\n",
        "pirates_txt_02=re.sub(' am ',' be ',pirates_txt_02)#lemmatizing\n",
        "pirates_txt_02=re.sub(' is ',' be ',pirates_txt_02)\n",
        "pirates_txt_02=re.sub(' are ',' be ',pirates_txt_02)\n",
        "pirates_txt_02=re.sub(' was ',' be ',pirates_txt_02)\n",
        "pirates_txt_02=re.sub(' were ',' be ',pirates_txt_02)\n",
        "pirates_txt_02=re.sub(' been ',' be ',pirates_txt_02)\n",
        "pirates_txt_02=re.sub(' being ',' be ',pirates_txt_02)\n",
        "print(pirates_txt_02[:2000])"
      ]
    },
    {
      "cell_type": "markdown",
      "metadata": {
        "id": "_90gx-KF558c"
      },
      "source": [
        "## Problem Three (30 points):  Removing Stop Words, Tokenizing, and Creating the BOW Models\n"
      ]
    },
    {
      "cell_type": "markdown",
      "metadata": {
        "id": "b-AAaURn558c"
      },
      "source": [
        "### 3.A  Removing Stop Words (10 pts)\n",
        "\n",
        "\"Stop words\" are common words which do not give much information about a text, since they occur in almost all texts. There is a standard set of such words which can be\n",
        "accessed through NLTK (notice that these include some with apostrophes, which we\n",
        "will have already removed):"
      ]
    },
    {
      "cell_type": "code",
      "execution_count": null,
      "metadata": {
        "colab": {
          "base_uri": "https://localhost:8080/"
        },
        "id": "0u9m6Xjx558c",
        "outputId": "7a7bcf94-4e37-46fd-9e2a-054bf0533d5e",
        "scrolled": true
      },
      "outputs": [
        {
          "name": "stdout",
          "output_type": "stream",
          "text": [
            "['i', 'me', 'my', 'myself', 'we', 'our', 'ours', 'ourselves', 'you', \"you're\", \"you've\", \"you'll\", \"you'd\", 'your', 'yours', 'yourself', 'yourselves', 'he', 'him', 'his', 'himself', 'she', \"she's\", 'her', 'hers', 'herself', 'it', \"it's\", 'its', 'itself', 'they', 'them', 'their', 'theirs', 'themselves', 'what', 'which', 'who', 'whom', 'this', 'that', \"that'll\", 'these', 'those', 'am', 'is', 'are', 'was', 'were', 'be', 'been', 'being', 'have', 'has', 'had', 'having', 'do', 'does', 'did', 'doing', 'a', 'an', 'the', 'and', 'but', 'if', 'or', 'because', 'as', 'until', 'while', 'of', 'at', 'by', 'for', 'with', 'about', 'against', 'between', 'into', 'through', 'during', 'before', 'after', 'above', 'below', 'to', 'from', 'up', 'down', 'in', 'out', 'on', 'off', 'over', 'under', 'again', 'further', 'then', 'once', 'here', 'there', 'when', 'where', 'why', 'how', 'all', 'any', 'both', 'each', 'few', 'more', 'most', 'other', 'some', 'such', 'no', 'nor', 'not', 'only', 'own', 'same', 'so', 'than', 'too', 'very', 's', 't', 'can', 'will', 'just', 'don', \"don't\", 'should', \"should've\", 'now', 'd', 'll', 'm', 'o', 're', 've', 'y', 'ain', 'aren', \"aren't\", 'couldn', \"couldn't\", 'didn', \"didn't\", 'doesn', \"doesn't\", 'hadn', \"hadn't\", 'hasn', \"hasn't\", 'haven', \"haven't\", 'isn', \"isn't\", 'ma', 'mightn', \"mightn't\", 'mustn', \"mustn't\", 'needn', \"needn't\", 'shan', \"shan't\", 'shouldn', \"shouldn't\", 'wasn', \"wasn't\", 'weren', \"weren't\", 'won', \"won't\", 'wouldn', \"wouldn't\"]\n"
          ]
        },
        {
          "name": "stderr",
          "output_type": "stream",
          "text": [
            "[nltk_data] Downloading package stopwords to /root/nltk_data...\n",
            "[nltk_data]   Package stopwords is already up-to-date!\n"
          ]
        }
      ],
      "source": [
        "import nltk\n",
        "from nltk.corpus import stopwords\n",
        "\n",
        "nltk.download('stopwords')\n",
        "print(stopwords.words('english'))"
      ]
    },
    {
      "cell_type": "markdown",
      "metadata": {
        "id": "s9uuAX36558c"
      },
      "source": [
        "For the first part of this problem, you must **remove all stop words from the\n",
        "text,** and store the result in `pirates_txt_03`. However, since `will` is the name\n",
        "of a character in the script, **do NOT remove the stopword `will`**! Make SURE that you\n",
        "only remove words, and not substrings of larger words, e.g., do not remove\n",
        "all occurrences of the character `i` from the text just because the word `i`\n",
        "is a stop word! Replace stop words with single blanks to preserve the\n",
        "word boundaries.\n",
        "\n",
        "Put your code in the next cell and print out the first 2000 characters."
      ]
    },
    {
      "cell_type": "code",
      "execution_count": null,
      "metadata": {
        "colab": {
          "base_uri": "https://localhost:8080/"
        },
        "id": "KSumQRPC558c",
        "outputId": "225bae45-b816-47bd-c15f-850cf4b111c0",
        "scrolled": false
      },
      "outputs": [
        {
          "name": "stdout",
          "output_type": "stream",
          "text": [
            "elizabeth swann: will\n",
            "elizabeth swann:    happening \n",
            "will turner:    know  look beautiful\n",
            "elizabeth swann:  think  bad luck   groom  see  bride   wedding\n",
            "lord cutler beckett: governor weatherby swann    long\n",
            "lord cutler beckett:  lord  actually\n",
            "lord cutler beckett:  fact   mister mercer  warrant   arrest  one william turner\n",
            "lord cutler beckett: oh    annoying  mistake arrest \n",
            "elizabeth swann:   charges\n",
            "will turner: \n",
            "lord cutler beckett: ah-ha   one  william turner    another one   mister james norrington   present\n",
            "elizabeth swann:    charges\n",
            "lord cutler beckett:    believe   answer   question  asked\n",
            "will turner: lord beckett   category  questions  answered\n",
            "elizabeth swann:     jurisdiction   king governor  port royal   will tell us    charged  \n",
            "lord cutler beckett:    punishment regrettably  also death perhaps  remember  certain pirate named jack sparrow\n",
            "elizabeth swann: captain jack sparrow\n",
            "lord cutler beckett: captain jack sparrow yes  thought  might\n",
            "gibbs: fifteen men   dead man chest yo ho ho   bottle  rum drink   devil  done   rest yo ho ho   bottle  rum ha-ha-ha-ha-ha \n",
            "jack sparrow: sorry mate\n",
            "jack sparrow: mind   make  little side trip    think \n",
            "gibbs:  quite according  plan\n",
            "jack sparrow: complications arose ensued  overcome\n",
            "gibbs:  got   went   \n",
            "jack sparrow: mm-hmm\n",
            "gibbs: captain  think  crew meaning   well  expecting something  bit  shiny    isla de muerta going  pear shaped reclaimed   sea   treasure   \n",
            "leech:   royal navy chasing us  around  atlantic \n",
            "marty:   hurricane aye\n",
            "crew: aye aye\n",
            "gibbs:     seems  time since    speck  honest pirating\n",
            "jack sparrow: shiny\n",
            "gibbs: aye shiny\n",
            "jack sparrow:       feeling  perhaps dear old jack   serving  best interests  captain\n",
            "cotton parrot: awk walk  plank \n",
            "jack sparrow:    bird say\n",
            "leech:   blame  bird show us     piece  cloth  \n",
            "jack sparrow: ohhh\n",
            "gibbs: know      good \n",
            "jack sparrow:   \n",
            "marty:   key\n",
            "jack sparrow:  much  better    drawing   key \n",
            "jack sparrow: gentlemen   keys \n",
            "leech: keys unlock things \n",
            "gibbs:  whatev\n"
          ]
        }
      ],
      "source": [
        "# Your code here\n",
        "stopword_removal_list=stopwords.words('english')\n",
        "stopword_removal_list.remove('will')\n",
        "pirates_txt_03=re.sub(r'\\b({})\\b'.format('|'.join(stopword_removal_list)),r'', pirates_txt_02)#Joining with or(|) so that if any of these are found they can be replaced by blank.\n",
        "#pirates_txt_03=re.sub('\\b','',pirates_txt_03)\n",
        "print(pirates_txt_03[:2000])"
      ]
    },
    {
      "cell_type": "markdown",
      "metadata": {
        "id": "bgG-7Yu7558d"
      },
      "source": [
        "### 3.B  Tokenizing and Creating the BOW Dictionary (20 pts)\n",
        "\n",
        "What we wish to do is to create a BOW model with a dictionary for two characters\n",
        "in the script, `elizabeth swann` and `jack sparrow`.\n",
        "\n",
        "\n",
        "### Part 3.B.1 (2 pts)\n",
        "\n",
        "Using `split(...)`, split the text on the newlines `\\n`\n",
        "to get a list of each line as a string. Print out the first 10 lines.\n"
      ]
    },
    {
      "cell_type": "code",
      "execution_count": null,
      "metadata": {
        "colab": {
          "base_uri": "https://localhost:8080/"
        },
        "id": "BiR6yo-X558d",
        "outputId": "4afacb90-f9b0-40b6-c1c6-304d1da2a990",
        "scrolled": false
      },
      "outputs": [
        {
          "name": "stdout",
          "output_type": "stream",
          "text": [
            "elizabeth swann: will\n",
            "elizabeth swann:    happening \n",
            "will turner:    know  look beautiful\n",
            "elizabeth swann:  think  bad luck   groom  see  bride   wedding\n",
            "lord cutler beckett: governor weatherby swann    long\n",
            "lord cutler beckett:  lord  actually\n",
            "lord cutler beckett:  fact   mister mercer  warrant   arrest  one william turner\n",
            "lord cutler beckett: oh    annoying  mistake arrest \n",
            "elizabeth swann:   charges\n",
            "will turner: \n"
          ]
        }
      ],
      "source": [
        "# Your code here\n",
        "split_pirates=pirates_txt_03.split('\\n')\n",
        "for lines in split_pirates[:10]:\n",
        "  print(lines)"
      ]
    },
    {
      "cell_type": "markdown",
      "metadata": {
        "id": "xOn07dOv558d"
      },
      "source": [
        "### Part 3.B.2 (18 pts)\n",
        "\n",
        "Create a dictionary to hold the BOW models for these two characters,\n",
        "each being a `defaultdict` with a default value of 0 (this is a representation of the sparce matrix representing the BOW for the character).\n",
        "\n",
        "Then go through the lines and calculate\n",
        "the frequency of each word spoken by that character. Print out the 20 most common\n",
        "words spoken by each character and the number of times spoken.  \n",
        "\n",
        "Hint: Scan through the lines created in 3.B.1, and just check if the line contains\n",
        "that character's name. Hint: you can use `in` to check if a substring occurs in\n",
        "a string.\n",
        "\n",
        "       'wayne snyder:' in 'wayne snyder: hi there folks!'   =>  True\n",
        "       \n",
        "**In order to make sure you are not finding an instance of the character's name as spoken\n",
        "by another character, be sure to include the colon (that's why we left it there!).**\n",
        "       \n",
        "Then split the line on blanks, and add all but the first two words (the name\n",
        "of the character) to the BOW for that character. If the empty word '' occurs,\n",
        "ignore it (do not add it to the BOW).\n"
      ]
    },
    {
      "cell_type": "code",
      "execution_count": null,
      "metadata": {
        "colab": {
          "base_uri": "https://localhost:8080/"
        },
        "id": "pfhYejVi558d",
        "outputId": "5f627c02-7ff2-4886-c228-2f74db38e6de",
        "scrolled": false
      },
      "outputs": [
        {
          "name": "stdout",
          "output_type": "stream",
          "text": [
            "Elizabeth Swann's most spoken 20 words are\n",
            "will\t22\n",
            "jack\t12\n",
            "find\t7\n",
            "know\t7\n",
            "oh\t7\n",
            "want\t6\n",
            "man\t6\n",
            "good\t5\n",
            "sparrow\t4\n",
            "would\t4\n",
            "something\t4\n",
            "chance\t4\n",
            "us\t3\n",
            "captain\t3\n",
            "compass\t3\n",
            "give\t3\n",
            "going\t3\n",
            "came\t3\n",
            "way\t3\n",
            "yes\t3\n"
          ]
        }
      ],
      "source": [
        "# Elizabeth Swann's BOW (9 pts)\n",
        "\n",
        "from collections import defaultdict\n",
        "\n",
        "def def_value():\n",
        "    return 0\n",
        "\n",
        "des=defaultdict(def_value)\n",
        "# Your code here\n",
        "for line in split_pirates:\n",
        "  if 'elizabeth swann:' in line:\n",
        "    for word in line.split(' ')[2:]:# split each word by space\n",
        "      des[word]+=1\n",
        "\n",
        "del des['']\n",
        "decdelizabeth=sorted(des.items(), key=lambda item: item[1], reverse=True)#sorted according to occurences\n",
        "word,counts=zip(*decdelizabeth)\n",
        "print(\"Elizabeth Swann's most spoken 20 words are\")\n",
        "for i in range(20):\n",
        "  print(word[i]+'\\t'+str(counts[i]))"
      ]
    },
    {
      "cell_type": "code",
      "execution_count": null,
      "metadata": {
        "colab": {
          "base_uri": "https://localhost:8080/"
        },
        "id": "fN7q3_kT558d",
        "outputId": "8f581fd5-8eb3-4690-bc3b-095cb3b34a6c",
        "scrolled": false
      },
      "outputs": [
        {
          "name": "stdout",
          "output_type": "stream",
          "text": [
            "Jack Sparrow's most spoken 20 words are\n",
            "want\t15\n",
            "come\t11\n",
            "know\t9\n",
            "oh\t9\n",
            "will\t9\n",
            "bugger\t8\n",
            "dirt\t8\n",
            "hey\t7\n",
            "one\t7\n",
            "love\t7\n",
            "mate\t6\n",
            "captain\t6\n",
            "key\t6\n",
            "would\t6\n",
            "oy\t6\n",
            "jones\t6\n",
            "save\t6\n",
            "jar\t6\n",
            "chest\t6\n",
            "much\t5\n"
          ]
        }
      ],
      "source": [
        "# Jack Sparrows's BOW   (9 pts)\n",
        "\n",
        "# Your code here\n",
        "djs=defaultdict(def_value)\n",
        "# Your code here\n",
        "for line in split_pirates:\n",
        "  if 'jack sparrow:' in line:\n",
        "    for word in line.split(' ')[2:]:\n",
        "      djs[word]+=1\n",
        "\n",
        "del djs['']\n",
        "decdjack=sorted(djs.items(), key=lambda item: item[1], reverse=True)#sorted according to occurences\n",
        "word,counts=zip(*decdjack)\n",
        "print(\"Jack Sparrow's most spoken 20 words are\")\n",
        "for i in range(20):\n",
        "  print(word[i]+'\\t'+str(counts[i]))"
      ]
    }
  ],
  "metadata": {
    "colab": {
      "provenance": []
    },
    "kernelspec": {
      "display_name": "Python 3 (ipykernel)",
      "language": "python",
      "name": "python3"
    },
    "language_info": {
      "codemirror_mode": {
        "name": "ipython",
        "version": 3
      },
      "file_extension": ".py",
      "mimetype": "text/x-python",
      "name": "python",
      "nbconvert_exporter": "python",
      "pygments_lexer": "ipython3",
      "version": "3.8.8"
    }
  },
  "nbformat": 4,
  "nbformat_minor": 0
}
