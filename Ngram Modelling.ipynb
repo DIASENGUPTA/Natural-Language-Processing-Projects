{
 "cells": [
  {
   "cell_type": "code",
   "execution_count": 1,
   "metadata": {
    "colab": {
     "base_uri": "https://localhost:8080/"
    },
    "id": "IAmK8WKwGJVg",
    "outputId": "dc39a240-b820-49d2-c537-68a5d6f255eb",
    "scrolled": false
   },
   "outputs": [
    {
     "name": "stderr",
     "output_type": "stream",
     "text": [
      "[nltk_data] Downloading package brown to /root/nltk_data...\n",
      "[nltk_data]   Unzipping corpora/brown.zip.\n"
     ]
    },
    {
     "data": {
      "text/plain": [
       "True"
      ]
     },
     "execution_count": 1,
     "metadata": {},
     "output_type": "execute_result"
    }
   ],
   "source": [
    "import math\n",
    "import numpy as np\n",
    "from numpy.random import shuffle, seed, choice\n",
    "import nltk\n",
    "from tqdm import tqdm\n",
    "from collections import defaultdict\n",
    "\n",
    "# First time you will need to download the corpus:\n",
    "# Run the following and download the book collection\n",
    "\n",
    "from nltk.corpus import brown\n",
    "nltk.download('brown')\n",
    "\n"
   ]
  },
  {
   "cell_type": "markdown",
   "metadata": {
    "id": "yTmukZgdGJVi"
   },
   "source": [
    "## Problem One:  Bag of N-Grams\n",
    "\n",
    "A BOW is a language modelling technique (also called a Term Frequency Vector) which creates a frequency distribution for a set of tokens -- or unigrams!\n",
    "Extending this idea a bit, we can also create a Bag of N-Grams, which is a frequency distribution for\n",
    "a set of N-grams for some N. If we divide the frequency by the number of N-grams, we have a probability distribution, such as we showed for the exciting text about John and Mary in Lecture 5.\n",
    "\n",
    "For this homework, we are going to create such Bag of N-Gram models for N = 1, 2, 3, & 4, for the sentences\n",
    "in `brown.sents()`.  We will evaluate them using a test set, and then in the second part of the\n",
    "homework, we shall use them to generate sentences.\n",
    "\n",
    "\n",
    "**Note 1:**  We do not want to do the same low-level transformations in this project\n",
    "as we did in HW 02. We will keep the capitalization, punctuation, and\n",
    "words in all their various forms.  There are some strange things in `brown.sents()`, such as double semicolons, and bad sentence segmentation, but we will assume\n",
    "the processing of the texts into `brown.sents()` was consistent, and we will see what\n",
    "our model makes of this data.\n",
    "\n",
    "**Note 2:** Since `brown.sents()` contains punctuation marks as well as words, we shall use the term **tokens**\n",
    "for the strings stored in the sentence lists."
   ]
  },
  {
   "cell_type": "markdown",
   "metadata": {
    "id": "xeTY-ZVUGJVi"
   },
   "source": [
    "### Part A: Randomize the list of sentences and split into training and testing sets\n",
    "\n",
    "We will use  `brown.sents()` (a list of list of tokens) as the basis of our N-gram models.\n",
    "The list `brown.words()` is simply the concatenation of all these lists of tokens.\n",
    "\n",
    "We will shuffle the list into a random order, but using a seed value so that the order of the random\n",
    "shuffle is the same each time.\n",
    "\n",
    "1. Read about `numpy.random.seed` and `numpy.random.shuffle`.\n",
    "\n",
    "2. Set the seed to `0` and shuffle the list: you can't shuffle `brown.sents()` and because `numpy.random.shuffle` modifies the list **in place**, to avoid reshuffling:\n",
    "<ul>\n",
    "    <li> Convert <b>brown.sents()</b> to a list and assign to a new variable <b>sentences</b> and then\n",
    "    <li> <b>Copy sentences</b> to a new variable <b>shuffled_sentences</b> and then\n",
    "    <li> Shuffle that list.\n",
    "</ul>\n",
    "\n",
    "In this way, you will have the original list, and a randomized list, but because of `seed(0)` it will be in the same order every time you run your code (and when we grade it).\n",
    "\n",
    "3. Then split  `shuffled_sentences` into sets `training_sents` (first 99.9% of the sentences) and `testing_sents` (last 0.1%).\n",
    "\n",
    "4. Print out the length of the training and testing sets.\n",
    "\n",
    "5. Print out the first sentence in each of these sets.  \n",
    "\n",
    "In 4 and 5, label the outputs so we know which is which. (Always make outputs easy\n",
    "to understand!)\n",
    "\n",
    "NOTE: The terms \"training set\" and \"testing set\" are very standard, even though we store these in lists (it is\n",
    "possible that there are duplicate sentences).\n"
   ]
  },
  {
   "cell_type": "code",
   "execution_count": 2,
   "metadata": {
    "colab": {
     "base_uri": "https://localhost:8080/"
    },
    "id": "vHn7dXJOGJVj",
    "outputId": "47f6a2d0-509d-44c9-c40f-ceb50099c1a1",
    "scrolled": false
   },
   "outputs": [
    {
     "name": "stdout",
     "output_type": "stream",
     "text": [
      "Length of Training Set: 57282\n",
      "Length of Test Set: 58\n",
      "Start of training set : \n",
      " ['Muscle', 'weakness', 'did', 'not', 'improve', ',', 'and', 'the', 'patient', 'needed', 'first', 'a', 'cane', ',', 'then', 'crutches', '.']\n",
      "Start of testing set : \n",
      " ['It', 'is', 'at', 'least', 'as', 'important', 'as', 'the', 'more', 'dramatic', 'attempts', 'to', 'break', 'down', 'barriers', 'of', 'inequality', 'in', 'the', 'South', '.']\n"
     ]
    }
   ],
   "source": [
    "# First, shuffle the set of sentences\n",
    "\n",
    "np.random.seed(0)# Seed\n",
    "sentences=list(brown.sents())\n",
    "shuffled_sentences=sentences.copy()\n",
    "np.random.shuffle(shuffled_sentences)#Shuffle\n",
    "split=int(0.999 * len(shuffled_sentences))\n",
    "training_sents=shuffled_sentences[:split]\n",
    "testing_sents=shuffled_sentences[split:]\n",
    "print(f\"Length of Training Set: {len(training_sents)}\")\n",
    "print(f\"Length of Test Set: {len(testing_sents)}\")\n",
    "print(\"Start of training set :\",'\\n',training_sents[0])\n",
    "print(\"Start of testing set :\",'\\n',testing_sents[0])\n",
    "# your code here"
   ]
  },
  {
   "cell_type": "markdown",
   "metadata": {
    "id": "_B2CdlXCGJVj"
   },
   "source": [
    "### Part B\n",
    "\n",
    "Now, you must add the beginning `<s>` and ending `</s>` markers to each sentence in both the\n",
    "training and testing lists.   Do not make any other changes\n",
    "to the sentences -- you will see that punctuation has been left in, such as periods at the end\n",
    "of sentences. Again, we will see what our models make of this data set.\n",
    "\n",
    "Print out the first sentence in each of the training and testing sets to check that all is well."
   ]
  },
  {
   "cell_type": "code",
   "execution_count": 3,
   "metadata": {
    "colab": {
     "base_uri": "https://localhost:8080/"
    },
    "id": "d6njD9_gGJVk",
    "outputId": "ecda7a47-0df9-4ffb-c365-e1d908c814cc",
    "scrolled": false
   },
   "outputs": [
    {
     "name": "stdout",
     "output_type": "stream",
     "text": [
      "Start of training set : \n",
      " ['<s>', 'Muscle', 'weakness', 'did', 'not', 'improve', ',', 'and', 'the', 'patient', 'needed', 'first', 'a', 'cane', ',', 'then', 'crutches', '.', '</s>']\n",
      "Start of training set : \n",
      " ['<s>', 'It', 'is', 'at', 'least', 'as', 'important', 'as', 'the', 'more', 'dramatic', 'attempts', 'to', 'break', 'down', 'barriers', 'of', 'inequality', 'in', 'the', 'South', '.', '</s>']\n"
     ]
    }
   ],
   "source": [
    "# put `<s>` at beginning and `</s>` at end of all sentences.\n",
    "\n",
    "def bracket_sentence(sent):\n",
    "    return [\"<s>\"] + sent + [\"</s>\"]                       # your code here\n",
    "training_sents=[bracket_sentence(sent) for sent in training_sents]\n",
    "print(\"Start of training set :\",'\\n',training_sents[0])\n",
    "testing_sents=[bracket_sentence(sent) for sent in testing_sents]\n",
    "print(\"Start of training set :\",'\\n',testing_sents[0])\n",
    "# your code here"
   ]
  },
  {
   "cell_type": "markdown",
   "metadata": {
    "id": "N9LOSI-4GJVk"
   },
   "source": [
    "###  Part C\n",
    "\n",
    "Complete the following template for a function to extract N-grams from one sentence, and test\n",
    "it for N = 1,2,3,4 for the first sentences in the training set."
   ]
  },
  {
   "cell_type": "code",
   "execution_count": 4,
   "metadata": {
    "colab": {
     "base_uri": "https://localhost:8080/"
    },
    "id": "4vEaeDQxGJVk",
    "outputId": "b0dccf9c-3859-46da-9545-32793cc7631d"
   },
   "outputs": [
    {
     "name": "stdout",
     "output_type": "stream",
     "text": [
      "[('<s>',), ('Muscle',), ('weakness',), ('did',), ('not',), ('improve',), (',',), ('and',), ('the',), ('patient',), ('needed',), ('first',), ('a',), ('cane',), (',',), ('then',), ('crutches',), ('.',), ('</s>',)]\n",
      "[('<s>', 'It'), ('It', 'is'), ('is', 'at'), ('at', 'least'), ('least', 'as'), ('as', 'important'), ('important', 'as'), ('as', 'the'), ('the', 'more'), ('more', 'dramatic'), ('dramatic', 'attempts'), ('attempts', 'to'), ('to', 'break'), ('break', 'down'), ('down', 'barriers'), ('barriers', 'of'), ('of', 'inequality'), ('inequality', 'in'), ('in', 'the'), ('the', 'South'), ('South', '.'), ('.', '</s>')]\n",
      "[('<s>', 'It', 'is'), ('It', 'is', 'at'), ('is', 'at', 'least'), ('at', 'least', 'as'), ('least', 'as', 'important'), ('as', 'important', 'as'), ('important', 'as', 'the'), ('as', 'the', 'more'), ('the', 'more', 'dramatic'), ('more', 'dramatic', 'attempts'), ('dramatic', 'attempts', 'to'), ('attempts', 'to', 'break'), ('to', 'break', 'down'), ('break', 'down', 'barriers'), ('down', 'barriers', 'of'), ('barriers', 'of', 'inequality'), ('of', 'inequality', 'in'), ('inequality', 'in', 'the'), ('in', 'the', 'South'), ('the', 'South', '.'), ('South', '.', '</s>')]\n",
      "[('<s>', 'It', 'is', 'at'), ('It', 'is', 'at', 'least'), ('is', 'at', 'least', 'as'), ('at', 'least', 'as', 'important'), ('least', 'as', 'important', 'as'), ('as', 'important', 'as', 'the'), ('important', 'as', 'the', 'more'), ('as', 'the', 'more', 'dramatic'), ('the', 'more', 'dramatic', 'attempts'), ('more', 'dramatic', 'attempts', 'to'), ('dramatic', 'attempts', 'to', 'break'), ('attempts', 'to', 'break', 'down'), ('to', 'break', 'down', 'barriers'), ('break', 'down', 'barriers', 'of'), ('down', 'barriers', 'of', 'inequality'), ('barriers', 'of', 'inequality', 'in'), ('of', 'inequality', 'in', 'the'), ('inequality', 'in', 'the', 'South'), ('in', 'the', 'South', '.'), ('the', 'South', '.', '</s>')]\n"
     ]
    }
   ],
   "source": [
    "# Return a list of the N-grams for all sentences s\n",
    "\n",
    "# Store all N-grams as tuples, so that a unigram is (w,), a bigram is (w1,w2), etc.\n",
    "\n",
    "def get_Ngrams_for_sentence(N,s):\n",
    "      #pass                       # your code here\n",
    "\n",
    "    ngrams = [tuple(s[i:i + N]) for i in range(len(s) - (N - 1))]\n",
    "    return ngrams\n",
    "\n",
    "unigrams = get_Ngrams_for_sentence(1, training_sents[0])\n",
    "print(unigrams)\n",
    "bigrams = get_Ngrams_for_sentence(2, testing_sents[0])\n",
    "print(bigrams)\n",
    "trigrams = get_Ngrams_for_sentence(3, testing_sents[0])\n",
    "print(trigrams)\n",
    "quadgrams = get_Ngrams_for_sentence(4, testing_sents[0])\n",
    "print(quadgrams)\n",
    "\n",
    "# your code here"
   ]
  },
  {
   "cell_type": "markdown",
   "metadata": {
    "id": "X3Bn4P2tGJVk"
   },
   "source": [
    "###  Part D\n",
    "\n",
    "Now create lists of N-grams for all the sentences in your training set (NOT the testing set).\n",
    "Complete the following template to assign these to the given list.\n",
    "\n",
    "Print out the number of N-grams, and the first 5 N-grams in each list for N = 1, 2, 3, 4.\n",
    "\n",
    "Note that this number is the number of occurrences of N-grams, which may not be unique in the list."
   ]
  },
  {
   "cell_type": "code",
   "execution_count": 5,
   "metadata": {
    "colab": {
     "base_uri": "https://localhost:8080/"
    },
    "id": "CqW4NvRSGJVl",
    "outputId": "4834b600-f75d-46f3-f5de-ecc1dccea6e5",
    "scrolled": true
   },
   "outputs": [
    {
     "name": "stdout",
     "output_type": "stream",
     "text": [
      "There are 1274667 N-grams in Ngrams[1] and the first 5 are:\n",
      "[('<s>',), ('Muscle',), ('weakness',), ('did',), ('not',)]\n",
      "There are 1217385 N-grams in Ngrams[2] and the first 5 are:\n",
      "[('<s>', 'Muscle'), ('Muscle', 'weakness'), ('weakness', 'did'), ('did', 'not'), ('not', 'improve')]\n",
      "There are 1160103 N-grams in Ngrams[3] and the first 5 are:\n",
      "[('<s>', 'Muscle', 'weakness'), ('Muscle', 'weakness', 'did'), ('weakness', 'did', 'not'), ('did', 'not', 'improve'), ('not', 'improve', ',')]\n",
      "There are 1102821 N-grams in Ngrams[4] and the first 5 are:\n",
      "[('<s>', 'Muscle', 'weakness', 'did'), ('Muscle', 'weakness', 'did', 'not'), ('weakness', 'did', 'not', 'improve'), ('did', 'not', 'improve', ','), ('not', 'improve', ',', 'and')]\n"
     ]
    }
   ],
   "source": [
    "Ngrams = [None]*5    # first slot is empty, then Ngram[1] will hold unigrams, Ngram[2] will hold bigrams, etc.\n",
    "\n",
    "for i in range(1,5):\n",
    "  ngram_list=[]\n",
    "  for s in training_sents:\n",
    "      ngram = get_Ngrams_for_sentence(i, s)#Ngrams for each sentence\n",
    "      ngram_list+=ngram\n",
    "  Ngrams[i]=ngram_list\n",
    "\n",
    "\n",
    "for i in range(1, 5):\n",
    "    ngram_list = Ngrams[i]\n",
    "    print(f\"There are {len(ngram_list)} N-grams in Ngrams[{i}] and the first 5 are:\")\n",
    "    print(Ngrams[i][:5])\n",
    "\n",
    "\n",
    "# your code here"
   ]
  },
  {
   "cell_type": "markdown",
   "metadata": {
    "id": "aaEDHmNvGJVl"
   },
   "source": [
    "### Part E\n",
    "\n",
    "We will now create a probability distribution for each of the Ngram collections. Note carefully\n",
    "that you must divide the frequency of each N-gram by the number of occurrences of N-grams, not\n",
    "the number of unique N-grams.\n",
    "\n",
    "Note that we have set the probability of the unigram `<s>` to 1.0. This is because we are\n",
    "interested in calculating the probability of sentences, which *always* begin with the token `'<s>'`.\n",
    "\n",
    "Complete the following template and then\n",
    "\n",
    "1. Print out the total number of N-grams in each dictionary (they should be a bit smaller than the totals in the last part - why?).\n",
    "2. Test your code by printing out the probability of the following Ngrams to 8 digits of precision:\n",
    "\n",
    "        ('to',)           \n",
    "        ('to','the')            \n",
    "        ('to','the','house')              \n",
    "        ('to','the','house','.')"
   ]
  },
  {
   "cell_type": "code",
   "execution_count": 6,
   "metadata": {
    "colab": {
     "base_uri": "https://localhost:8080/"
    },
    "id": "vMG8Why7GJVl",
    "outputId": "d3b1ea33-328d-470f-8cac-746554345e58",
    "scrolled": true
   },
   "outputs": [
    {
     "name": "stdout",
     "output_type": "stream",
     "text": [
      "\n",
      "The Probability of ('<s>',) is 1.0.\n",
      "\n",
      "The Probability of ('to',) is 0.02017703.\n",
      "\n",
      "The Probability of ('to','the') is 0.00281341.\n",
      "\n",
      "The Probability of ('to','the','house') is 9.48e-06.\n",
      "\n",
      "The Probability of ('to','the','house','.')  is 2.72e-06.\n"
     ]
    }
   ],
   "source": [
    "# Create a defaultdict with the frequency distribution for the training set for a given N.\n",
    "from collections import defaultdict\n",
    "\n",
    "def get_Ngram_distribution(N,Ngrams):\n",
    "  ngram_dict=defaultdict(lambda:0)\n",
    "  for i in Ngrams[N]:\n",
    "    ngram_dict[i]+=1\n",
    "  return ngram_dict\n",
    "\n",
    "      #pass                       # your code here\n",
    "\n",
    "\n",
    "# your code here\n",
    "\n",
    "# now create for N = 1,2,3,4\n",
    "\n",
    "Ngram_distribution = [None]*5\n",
    "for i in range(1,5):\n",
    "  ngram_dict= get_Ngram_distribution(i,Ngrams)\n",
    "  ngram_dict_new=defaultdict(lambda:0)\n",
    "  for ngram, count in ngram_dict.items():\n",
    "    ngram_dict_new[ngram]=count/len(Ngrams[i])# Probability of each ngram\n",
    "  Ngram_distribution[i]=ngram_dict_new\n",
    "\n",
    "\n",
    "# your code here\n",
    "\n",
    "# Since all setences will start with <s>, its probability should be 1.0\n",
    "\n",
    "Ngram_distribution[1][('<s>',)] = 1.0\n",
    "\n",
    "# tests\n",
    "\n",
    "print(f\"\\nThe Probability of ('<s>',) is {np.around(Ngram_distribution[1][('<s>',)],8)}.\")\n",
    "print(f\"\\nThe Probability of ('to',) is {np.around(Ngram_distribution[1][('to',)],8)}.\")\n",
    "print(f\"\\nThe Probability of ('to','the') is {np.around(Ngram_distribution[2][('to','the')],8)}.\")\n",
    "print(f\"\\nThe Probability of ('to','the','house') is {np.around(Ngram_distribution[3][('to','the','house')],8)}.\")\n",
    "print(f\"\\nThe Probability of ('to','the','house','.')  is {np.around(Ngram_distribution[4][('to','the','house','.') ],8)}.\")"
   ]
  },
  {
   "cell_type": "code",
   "execution_count": 53,
   "metadata": {
    "colab": {
     "base_uri": "https://localhost:8080/"
    },
    "id": "9A_V9MrQzxMt",
    "outputId": "2edb3ef1-6fba-4405-b9d3-b4b284dca5f5"
   },
   "outputs": [
    {
     "name": "stdout",
     "output_type": "stream",
     "text": [
      "There are 56029 N-grams in Ngram_distribution[1].\n",
      "There are 454056 N-grams in Ngram_distribution[2].\n",
      "There are 877119 N-grams in Ngram_distribution[3].\n",
      "There are 1029391 N-grams in Ngram_distribution[4].\n"
     ]
    }
   ],
   "source": [
    "for i in range(1, 5):\n",
    "    ngram_dist_list = Ngram_distribution[i]\n",
    "    print(f\"There are {len(ngram_dist_list.keys())} N-grams in Ngram_distribution[{i}].\")"
   ]
  },
  {
   "cell_type": "markdown",
   "metadata": {
    "id": "Z3C8zk7D0aYT"
   },
   "source": [
    "The number of Ngram distribution is lesser than the last question since now every ngram is listed only once, there is no repeatation."
   ]
  },
  {
   "cell_type": "markdown",
   "metadata": {
    "id": "rR3jgcVDGJVm"
   },
   "source": [
    "## Probability and Perplexity\n",
    "\n",
    "Now we will calculate the probability and the perplexity of sequences\n",
    "of tokens, using the principle of \"Stupid Backoff\" as explained\n",
    "in the paper:\n",
    "\n",
    "https://aclanthology.org/D07-1090.pdf\n",
    "\n",
    "and explicated in this StackOverflow post:\n",
    "\n",
    "https://stackoverflow.com/questions/16383194/stupid-backoff-implementation-clarification\n",
    "\n",
    "Before describing \"Stupid Backoff,\" let us consider the naive way to\n",
    "calculate the probability of a sequence of tokens which starts with `<s>`.\n",
    "\n",
    "#### A simple and naive way to calculate probabilities of sequences of tokens\n",
    "\n",
    "Suppose we have a quadrigram model (N = 4), we have a sequence of tokens\n",
    "\n",
    "$$w_1, w_2, \\cdots, w_n,$$   \n",
    "\n",
    "Assume we have calculated all the N-gram\n",
    "probabilities in  `Ngram_distribution[N]` for N = 1,2,3,4.  \n",
    "\n",
    "\n",
    "We will calculate the probability of each successive token $w_i$ in as much left context as we have, up to 3 (the\n",
    "last token in the 4-gram being $w_i$).\n",
    "\n",
    "\n",
    "$$\\begin{aligned}\n",
    "        p_1 &= \\text{Ngram_distribution[1][($w_1$,)]}    \\\\   \n",
    "        p_2 &=   \\text{Ngram_distribution[2][$( w_1,w_2)$]}\\ / \\ \\text{Ngram_distribution[1][$( w_1,)$]}    \\\\              p_3 &=   \\text{Ngram_distribution[3][$( w_1,w_2,w_3)$]}\\ / \\  \\text{Ngram_distribution[2][$(\\text{'<s>'}, w_1,w_2)$]}   \\\\      \n",
    "        p_4 &=   \\text{Ngram_distribution[4][$( w_1,w_2,w_3,w_4)$]}\\ / \\  \\text{Ngram_distribution[3][$(\\text{'<s>'}, w_1,w_2,w_3)$]}   \\\\        \n",
    "            &\\ldots                             \\\\\n",
    "        p_i &=   \\text{Ngram_distribution[4][$(w_{i-3}, w_{i-2}, w_{i-1}, w_i)$]}\\ /\\  \\text{Ngram_distribution[3][$(w_{i-3}, w_{i-2}, w_{i-1})$]}   \\\\        \n",
    "                    &\\ldots                            \\\\\n",
    "        p_n &=  \\text{Ngram_distribution[4][$(w_{n-3}, w_{n-2}, w_{n-1}, w_n)$]}\\ /\\  \\text{Ngram_distribution[3][$(w_{n-3}, w_{n-2}, w_{n-1})$]}     \\\\        \n",
    "  \\end{aligned}$$\n",
    "  \n",
    "Note that if $w_1$ is `<s>`, then $p_1=1.0$.\n",
    "    \n",
    "Finally, let\n",
    "\n",
    "$$P(\\text{'<s>'}, w_1, w_2, \\cdots, w_n)\\ =\\ p_1\\ast p_2\\ast\\cdots\\ast p_n.$$\n",
    "\n",
    "One messy detail is dealing with the possibility of 0 counts (if that is possible); thus,\n",
    "if the numerator in the above expressions is 0, then the entire product is 0 (you want to avoid\n",
    "a divide by 0 error in the denominator).\n",
    "\n",
    "#### What could possibly go wrong?\n",
    "\n",
    "Well, if our sentence is from our training set, nothing!  All the probabilities will\n",
    "have been calculated for all the possible N-grams.\n",
    "\n",
    "However, when we have a separate\n",
    "training set, we have to account for the fact that **some N-grams (and even\n",
    "some tokens) may occur in the testing set which do not occur in the training set,\n",
    "and so their probability will be 0.**  However, we want to make the best estimate\n",
    "of the probability we can!\n",
    "\n",
    "There are various solutions, which we discussed in lectures 5 and 6, but the simplest\n",
    "(and very effective for large data sets) is \"Stupid Backoff,\" recursively defined as follows\n",
    "for bigrams, trigrams, and quadrigrams, and **using the probability calculations shown above.**\n",
    "\n",
    "    PN_stupid_backoff(w1) = p1   as defined above           # if this is not 0, else:\n",
    "                          = (frequency of w1 in whole corpus / number of tokens in whole corpus)\n",
    "              \n",
    "    PN_stupid_backoff(w1, w2) = p2   as defined above         # if this is not 0, else:\n",
    "                              = 0.4 * P_stupid_backoff(w2)    # recursive, use previous definition\n",
    "\n",
    "    PN_stupid_backoff(w1, w2, w3) = p3   as defined above           # if this is not 0, else:\n",
    "                                  = 0.4 * P_stupid_backoff(w2, w3)  # recursive, use definition above\n",
    "\n",
    "                       \n",
    "    PN_stupid_backoff(w1, w2, w3, w4) = p4  as defined above                 # if this is not 0, else:\n",
    "                                      = 0.4 * P_stupid_backoff(w2, w3, w4)   # recursive, previous definition\n",
    "\n",
    "This accounts for how to backoff when trying to find the probability of some $w_i$ in a left context\n",
    "of 1, 2, or 3 tokens.\n",
    "\n",
    "Then we use these calculations instead of $p_1$, $p_2$ as in the previous algorithm, for trigrams\n",
    "it would be:\n",
    "\n",
    "     P_stupid_backoff(w1, w2, w3, w4, ..., wn) =   PN_stupid_backoff(w1)\n",
    "                                                 * PN_stupid_backoff(w1, w2)\n",
    "                                                 * PN_stupid_backoff(w1, w2, w3)\n",
    "                                                 * PN_stupid_backoff(w2, w3, w4)\n",
    "                                                 ...\n",
    "                                                 * PN_stupid_backoff(w(n-2), w(n-1), wn)\n",
    "\n",
    "The \"discount factor\"\n",
    "0.4 was proposed by the originators of the method, and seems to work well in practice.\n",
    "\n",
    "This calculation is unnecessary in generative models, since then we will train on the entire\n",
    "corpus, and only use available N-grams to produce sentences."
   ]
  },
  {
   "cell_type": "markdown",
   "metadata": {
    "id": "BGHS2SDAGJVm"
   },
   "source": [
    "## Problem 2\n",
    "\n",
    "Now we will calculate the probability of a sequence of tokens. We will warm up by considering\n",
    "the simple case, and then consider the more complex case, where\n",
    "\"stupid backoff\" will be used.\n",
    "\n",
    "### Part A\n",
    "\n",
    "For this part, complete the following template to create a function which will\n",
    "calculate the probability of a sequence of tokens.\n",
    "\n",
    "**Since you may want to use this in the stupid backoff version, you should make sure that if the\n",
    "numerator in the conditional probability calculation is 0, immediately return 0,\n",
    "so that there is no possibility of divide by 0 in the denominator.**\n",
    "\n",
    "Tests are provided following the cell in which you will write your code."
   ]
  },
  {
   "cell_type": "code",
   "execution_count": 7,
   "metadata": {
    "id": "0qJY5UqJGJVm"
   },
   "outputs": [],
   "source": [
    "# Probability of a list of tokens using N-grams\n",
    "# W a list of tokens\n",
    "\n",
    "# Calculate the probability of the last token in W, as we did in the calculation of p1, p2, etc. above\n",
    "# check numerator: if it is 0, return 0 immediately and do not do the division (to avoid possible\n",
    "# division by 0)\n",
    "\n",
    "# N == len(W)\n",
    "\n",
    "def PN(N,W):\n",
    "    #pass                  # your code here\n",
    "    if W not in Ngram_distribution[N]:\n",
    "      return 0.0\n",
    "    elif N==1:\n",
    "      return Ngram_distribution[N][W]# for N=1 PN=Ngram_distribution since probability of <s> is 1\n",
    "    else:\n",
    "      return Ngram_distribution[N][W]/Ngram_distribution[N-1][W[:-1]]\n",
    "\n",
    "\n",
    "\n",
    "\n",
    "# Now calculate for a whole sequence: use PN(..) for bigram, trigram, etc. up to size of\n",
    "# model, then slide PN(...) across the sequence, as shown above.\n",
    "\n",
    "\n",
    "def P(N,W):\n",
    "    #pass                  # your code here\n",
    "    probability = 1.0\n",
    "\n",
    "    for i in range(1,N):\n",
    "      #print(W[:i])\n",
    "      p=PN(i,W[:i])\n",
    "      #print(p)\n",
    "      if p!=0.0:\n",
    "        probability*=p#expansion\n",
    "      else:\n",
    "        return 0.0\n",
    "    # Iterate through the sequence and calculate conditional probabilities\n",
    "    for i in range(0, len(W)-N+1):\n",
    "      #print(W[i:i+N])\n",
    "      p=PN(N,W[i:i+N])\n",
    "      #print(p)\n",
    "      if p!=0.0:\n",
    "        probability*=p#sliding\n",
    "      else:\n",
    "        return 0.0\n",
    "    return probability\n",
    "\n"
   ]
  },
  {
   "cell_type": "markdown",
   "metadata": {
    "id": "dxS9UVIZGJVn"
   },
   "source": [
    "The following are tests to make sure your code is working properly. The values printed\n",
    "should be the same."
   ]
  },
  {
   "cell_type": "code",
   "execution_count": 8,
   "metadata": {
    "colab": {
     "base_uri": "https://localhost:8080/"
    },
    "id": "S-s-SYFDGJVn",
    "outputId": "6d828e1b-244f-437c-f8d5-fb6e473a1faf"
   },
   "outputs": [
    {
     "name": "stdout",
     "output_type": "stream",
     "text": [
      "a= 0.002346012148991486\n",
      "   0.002346012148991486\n",
      "b = 0.000351478118528877\n",
      "   0.000351478118528877\n",
      "c= 0.39264499316157175\n",
      "   0.39264499316157175\n",
      "d= 1.0470533150975245\n",
      "   1.0470533150975245\n",
      "\n",
      "a*b*c*d:   3.389982137368031e-07\n",
      "P(2,...):  3.389982137368031e-07\n"
     ]
    }
   ],
   "source": [
    "#  Sentence:  He frowned.\n",
    "#  Using a bigram model\n",
    "\n",
    "a = Ngram_distribution[2][('<s>','He')]\n",
    "b = Ngram_distribution[2][('He','frowned')] / Ngram_distribution[1][('He',)]\n",
    "c = Ngram_distribution[2][('frowned','.')] / Ngram_distribution[1][('frowned',)]\n",
    "d = Ngram_distribution[2][('.','</s>')] / Ngram_distribution[1][('.',)]\n",
    "\n",
    "\n",
    "print('a=', a)\n",
    "print('  ', PN(2,('<s>','He')))\n",
    "print('b =', b)\n",
    "print('  ', PN(2,('He','frowned')))\n",
    "print('c=', c)\n",
    "print('  ', PN(2,('frowned','.')))\n",
    "print('d=', d)\n",
    "print('  ', PN(2,('.','</s>')))\n",
    "\n",
    "print('\\na*b*c*d:  ',a*b*c*d)\n",
    "print('P(2,...): ', P(2,('<s>','He','frowned','.','</s>')))"
   ]
  },
  {
   "cell_type": "code",
   "execution_count": 9,
   "metadata": {
    "colab": {
     "base_uri": "https://localhost:8080/"
    },
    "id": "FXksTvGwGJVn",
    "outputId": "cedff711-2f80-4edd-dc80-bcc1fb85bfc5"
   },
   "outputs": [
    {
     "name": "stdout",
     "output_type": "stream",
     "text": [
      "a*b*c*d:   9.492186072583041e-07\n",
      "P(3,...):  9.492186072583041e-07\n"
     ]
    }
   ],
   "source": [
    "#  Sentence:  He frowned.\n",
    "#  Using a trigram model\n",
    "\n",
    "a = Ngram_distribution[2][('<s>','He')]\n",
    "b = Ngram_distribution[3][('<s>','He','frowned')] / Ngram_distribution[2][('<s>','He',)]\n",
    "c = Ngram_distribution[3][('He','frowned','.')] / Ngram_distribution[2][('He','frowned',)]\n",
    "d = Ngram_distribution[3][('frowned','.','</s>')] / Ngram_distribution[2][('frowned','.',)]\n",
    "\n",
    "print('a*b*c*d:  ',a*b*c*d)\n",
    "print('P(3,...): ', P(3,('<s>','He','frowned','.','</s>')))"
   ]
  },
  {
   "cell_type": "code",
   "execution_count": 10,
   "metadata": {
    "colab": {
     "base_uri": "https://localhost:8080/"
    },
    "id": "530fNTtjGJVn",
    "outputId": "73e14990-2cb2-4759-cad3-063534d5fe4a"
   },
   "outputs": [
    {
     "name": "stdout",
     "output_type": "stream",
     "text": [
      "a*b*c*d:   9.538640808692934e-07\n",
      "P(4,...):  9.538640808692934e-07\n"
     ]
    }
   ],
   "source": [
    "#  Sentence:  He frowned.\n",
    "#  Using a quadrigram model\n",
    "\n",
    "a = Ngram_distribution[2][('<s>','He')]\n",
    "b = Ngram_distribution[3][('<s>','He','frowned')] / Ngram_distribution[2][('<s>','He',)]\n",
    "c = Ngram_distribution[4][('<s>','He','frowned','.')] / Ngram_distribution[3][('<s>','He','frowned',)]\n",
    "d = Ngram_distribution[4][('He','frowned','.','</s>')] / Ngram_distribution[3][('He','frowned','.',)]\n",
    "\n",
    "print('a*b*c*d:  ',a*b*c*d)\n",
    "print('P(4,...): ', P(4,('<s>','He','frowned','.','</s>')))"
   ]
  },
  {
   "cell_type": "code",
   "execution_count": 11,
   "metadata": {
    "colab": {
     "base_uri": "https://localhost:8080/"
    },
    "id": "wJXFDfpnGJVo",
    "outputId": "ef5f3da8-2d5d-419e-b35d-9cbec8418871"
   },
   "outputs": [
    {
     "name": "stdout",
     "output_type": "stream",
     "text": [
      "a= 0.001128648701930778 \n",
      "b= 0.0015274769289326804 \n",
      "c= 0.0 \n",
      "d1= 0 \n",
      "d2= 0 \n",
      "\n",
      "a*b*d*d1:   0.0\n",
      "P(3,...):  0.0\n"
     ]
    }
   ],
   "source": [
    "# Sentence:  I love NLP\n",
    "# using trigrams\n",
    "\n",
    "# This shows that you should test the numerator to see if it is 0, because then\n",
    "# you can return 0 immediately, and not have the possibility of division by 0,\n",
    "# which would occur in the cases d below (c is 0 but would not cause division by 0)\n",
    "\n",
    "a  = Ngram_distribution[2][('<s>','I')]\n",
    "b  = Ngram_distribution[3][('<s>','I','love')] / Ngram_distribution[2][('<s>','I',)]\n",
    "c  = Ngram_distribution[3][('I','love','NLP')] / Ngram_distribution[2][('I','love')]\n",
    "d1 = Ngram_distribution[3][('love','NLP','</s>')]\n",
    "d2 = Ngram_distribution[2][('love','NLP')]\n",
    "\n",
    "print('a=',a,'\\nb=',b,'\\nc=',c,'\\nd1=',d1,'\\nd2=',d2,'\\n')\n",
    "\n",
    "print('a*b*d*d1:  ',a*b*c*d1)\n",
    "print('P(3,...): ', P(3,('<s>','I','love','NLP','</s>')))"
   ]
  },
  {
   "cell_type": "markdown",
   "metadata": {
    "id": "uaY-OZCeGJVo"
   },
   "source": [
    "### Part B\n",
    "\n",
    "Now we will develop the probability for a sequence with the possibility that some N-grams, or\n",
    "even some tokens, are not in the training set. We will use the idea of \"stupid backoff\" explained\n",
    "in lecture.\n",
    "\n",
    "Complete the following template and verify that it passes all the tests.\n"
   ]
  },
  {
   "cell_type": "code",
   "execution_count": 12,
   "metadata": {
    "id": "T1V-Q5T0GJVo"
   },
   "outputs": [],
   "source": [
    "# Probability with stupid backoff\n",
    "# same as previous, but have to use recursive (or iterative) method instead of\n",
    "# calling Ngram_distribution directly\n",
    "\n",
    "# W a list of tokens\n",
    "\n",
    "num_all_tokens = len(brown.words())\n",
    "\n",
    "# This returns backed-off probability for single N-gram\n",
    "# len(W) must be N, this will try whole N-gram, then last N-1 tokens, then N-2, etc. down to 1 token.\n",
    "\n",
    "# Assumes W is a tuple\n",
    "\n",
    "# calculate for a particular length N-gram\n",
    "# must have N == len(W)\n",
    "\n",
    "def PN_with_stupid_backoff(N,W):\n",
    "    #pass                  # your code here\n",
    "\n",
    "    pn=PN(N,W)\n",
    "    count=0\n",
    "    totalcount=0\n",
    "    if pn==0:\n",
    "      # print(W)\n",
    "      if N==1:\n",
    "        return list(brown.words()).count(W[0])/len(brown.words())# returning (frequency of w1 in whole corpus / number of tokens in whole corpus)\n",
    "      else:\n",
    "        probability=1.0\n",
    "        W_new=W[1:]\n",
    "        N_new=N-1\n",
    "        for i in range(0, len(W_new)-N_new+1):\n",
    "          #print(W_new[i:i+N_new])\n",
    "          p=PN_with_stupid_backoff(N_new,W_new[i:i+N_new])\n",
    "          #print(p)\n",
    "          probability*=p\n",
    "        return probability*0.4\n",
    "    else:\n",
    "      # print(W)\n",
    "      return pn\n",
    "\n",
    "\n",
    "\n",
    "\n",
    "\n",
    "\n",
    "# Note that for training set, this will be same as P(N,W) since all probabilities are non-zero\n",
    "\n",
    "# Really the same as P(N,W) except using the previous function, and no need to check for 0,\n",
    "# since it never returns 0 for a sequence using words from the corpus\n",
    "\n",
    "\n",
    "\n",
    "def P_stupid_backoff(N,W):\n",
    "    #pass                  # your code here\n",
    "    probability = 1.0\n",
    "\n",
    "    for i in range(1,N):\n",
    "      #print(W[:i])\n",
    "      p=PN_with_stupid_backoff(i,W[:i])#expansion\n",
    "      #print(p)\n",
    "      probability*=p\n",
    "    # Iterate through the sequence and calculate conditional probabilities\n",
    "    for i in range(0, len(W)-N+1):\n",
    "      #print(W[i:i+N])\n",
    "      p=PN_with_stupid_backoff(N,W[i:i+N])#sliding\n",
    "      #print(p)\n",
    "      probability*=p\n",
    "    return probability\n",
    "\n"
   ]
  },
  {
   "cell_type": "markdown",
   "metadata": {
    "id": "wh4onLT0GJVo"
   },
   "source": [
    "The following are tests to make sure your code is working properly. The values printed\n",
    "should be the same."
   ]
  },
  {
   "cell_type": "code",
   "execution_count": 13,
   "metadata": {
    "colab": {
     "base_uri": "https://localhost:8080/"
    },
    "id": "Y7MU-pKDGJVp",
    "outputId": "0e094dcd-339e-4b26-c515-c297bf219d36"
   },
   "outputs": [
    {
     "data": {
      "text/plain": [
       "0.0"
      ]
     },
     "execution_count": 13,
     "metadata": {},
     "output_type": "execute_result"
    }
   ],
   "source": [
    "# 'grandstand' is in testing set but not in the training set\n",
    "# This uses bigrams\n",
    "\n",
    "P(2,('<s>','where','is','the','grandstand'))"
   ]
  },
  {
   "cell_type": "code",
   "execution_count": 14,
   "metadata": {
    "colab": {
     "base_uri": "https://localhost:8080/"
    },
    "id": "tBs7PLaFGJVp",
    "outputId": "312be78c-c6cb-4095-b108-492cf28718df"
   },
   "outputs": [
    {
     "name": "stdout",
     "output_type": "stream",
     "text": [
      "a = 1.6428656505542618e-06 \n",
      "b = 0.006166391726133832 \n",
      "c = 0.08182229363508187 \n",
      "d2= 0.0 \n",
      "d1= 0.0 \n",
      "d = 8.611840246918683e-07 \n",
      "\n",
      "2.855359302895301e-16\n",
      "2.855359302895301e-16\n"
     ]
    }
   ],
   "source": [
    "a = PN(2,('<s>','where'))\n",
    "b = PN(2,('where','is'))\n",
    "c = PN(2,('is','the'))\n",
    "d2 = PN(2,('the','grandstand'))     # this is 0, so use less context\n",
    "d1 = PN(1,('grandstand'))           # this is 0, so use 0.4*d instead of d2\n",
    "d  = list(brown.words()).count('grandstand') / len(brown.words())\n",
    "\n",
    "print('a =',a,'\\nb =',b,'\\nc =',c,'\\nd2=',d2,'\\nd1=',d1,'\\nd =',d,'\\n')\n",
    "print(a*b*c*(0.4*d))\n",
    "print(P_stupid_backoff(2,('<s>','where','is','the','grandstand')))"
   ]
  },
  {
   "cell_type": "code",
   "execution_count": 15,
   "metadata": {
    "colab": {
     "base_uri": "https://localhost:8080/"
    },
    "id": "0ISIZRuHGJVp",
    "outputId": "cd5a95aa-fe85-4e78-8bd0-95d7a03e7377"
   },
   "outputs": [
    {
     "data": {
      "text/plain": [
       "0.0"
      ]
     },
     "execution_count": 15,
     "metadata": {},
     "output_type": "execute_result"
    }
   ],
   "source": [
    "# 'grandstand' is in testing set but not in the training set\n",
    "# This uses trigrams\n",
    "\n",
    "P(3,('<s>','where','is','the','grandstand'))"
   ]
  },
  {
   "cell_type": "code",
   "execution_count": 16,
   "metadata": {
    "colab": {
     "base_uri": "https://localhost:8080/"
    },
    "id": "pJNFh3XvGJVp",
    "outputId": "cc326e4e-ff67-4558-faf7-de7e4e1ad8e1"
   },
   "outputs": [
    {
     "name": "stdout",
     "output_type": "stream",
     "text": [
      "a = 1.6428656505542618e-06 \n",
      "b3= 0.0 \n",
      "b2= 0.006166391726133832 \n",
      "c = 0.4197506600707006 \n",
      "d3= 0.0 \n",
      "d2= 0.0 \n",
      "d1= 0.0 \n",
      "d = 8.611840246918683e-07 \n",
      "\n",
      "2.3436917228933544e-16\n",
      "2.3436917228933544e-16\n"
     ]
    }
   ],
   "source": [
    "a  = PN(2,('<s>','where'))               # <= this works\n",
    "b3 = PN(3,('<s>','where','is'))         # this is 0, so try less context\n",
    "b2 = PN(2,('where','is'))               # <= this works\n",
    "c  = PN(3,('where','is','the'))          # <= this works\n",
    "\n",
    "d3 = PN(3,('is','the','grandstand'))    # this is 0, so try less context\n",
    "d2 = PN(2,('the','grandstand'))         # this is 0, so try less context\n",
    "d1 = PN(1,('grandstand'))               # this is 0, so use probability in whole corpus\n",
    "d  = list(brown.words()).count('grandstand') / len(brown.words())     # <= this works\n",
    "\n",
    "print('a =',a,'\\nb3=',b3,'\\nb2=',b2,'\\nc =',c,'\\nd3=',d3,'\\nd2=',d2,'\\nd1=',d1,'\\nd =',d,'\\n')\n",
    "\n",
    "# every time we try less context, must multiply by 0.4, so we\n",
    "# use 0.4*b2 instead of b3 and 0.4*0.4*e instead of d3\n",
    "print(a*(0.4*b2)*c*(0.4*0.4*d))\n",
    "print(P_stupid_backoff(3,('<s>','where','is','the','grandstand')))"
   ]
  },
  {
   "cell_type": "code",
   "execution_count": 17,
   "metadata": {
    "colab": {
     "base_uri": "https://localhost:8080/"
    },
    "id": "3lO2spMqGJVq",
    "outputId": "b46ad5ac-ec70-4146-bce2-3cb7ab01fa3b"
   },
   "outputs": [
    {
     "name": "stdout",
     "output_type": "stream",
     "text": [
      "a = 0.005372992110137713 \n",
      "b3= 0.0 \n",
      "b2= 0.0 \n",
      "b1= 0.0 \n",
      "b = 8.611840246918683e-07\n",
      "c3= 0.0 \n",
      "c2= 0.0 \n",
      "c1= 7.21757133431712e-05 \n",
      "d3= 0.0 \n",
      "d2= 0.01138101429453831 \n",
      "e3= 0.0 \n",
      "e2= 0.0011817757506744071 \n",
      "\n",
      "1.839836556015632e-20\n",
      "1.839836556015632e-20\n"
     ]
    }
   ],
   "source": [
    "a  = PN(2,('<s>','The'))                   #   <= this works\n",
    "\n",
    "b3 = PN(3,('<s>','The','grandstand'))      # this is 0, so try less context (smaller N)\n",
    "b2 = PN(2,('The','grandstand'))            # this is 0, so try less context\n",
    "b1 = PN(1,('grandstand',))                 # this is 0, so have to use frequency in whole corpus\n",
    "b  = list(brown.words()).count('grandstand') / len(brown.words())    #   <= this works\n",
    "\n",
    "c3 = PN(3,('The','grandstand','fell'))     # this is 0, so try less context\n",
    "c2 = PN(2,('grandstand','fell'))           # this is 0, so try less context\n",
    "c1 = PN(1,('fell',))                       # ok, this works\n",
    "\n",
    "d3 = PN(3,('grandstand','fell','down'))   # this is 0, so try less context\n",
    "d2 = PN(2,('fell','down'))                #   <= this works\n",
    "\n",
    "e3 = PN(3,('fell','down','</s>'))         # this is 0, so try less context\n",
    "e2 = PN(2,('down','</s>'))                #  <= this works\n",
    "\n",
    "# every time we tried a smaller N, we have to multiply by 0.4\n",
    "# so we use a, then 0.4*0.4*b0, then 0.4*0.4*c1, then 0.4*d2, then 0.4*e2e.\n",
    "\n",
    "print('a =',a,'\\nb3=',b3,'\\nb2=',b2,'\\nb1=',b1,'\\nb =',b)\n",
    "print('c3=',c3,'\\nc2=',c2,'\\nc1=',c1,'\\nd3=',d3,'\\nd2=',d2,'\\ne3=',e3,'\\ne2=',e2,'\\n')\n",
    "\n",
    "print(a * (0.4*0.4*b) * (0.4*0.4*c1) * (0.4*d2) * (0.4*e2) )\n",
    "print(P_stupid_backoff(3,('<s>','The','grandstand','fell','down','</s>')))"
   ]
  },
  {
   "cell_type": "markdown",
   "metadata": {
    "id": "QLVH_ED-GJVq"
   },
   "source": [
    "### Part C\n",
    "\n",
    "Now we will implement the notion of *perplexity* as explained in lecture. Refer to\n",
    "the formula presented there to complete the following template, and verify\n",
    "that it passes all the tests."
   ]
  },
  {
   "cell_type": "code",
   "execution_count": 18,
   "metadata": {
    "id": "JFhy0bFHGJVq"
   },
   "outputs": [],
   "source": [
    "# Perplexity\n",
    "\n",
    "# We assume that W starts with <s>, may not end with </s>\n",
    "\n",
    "def PP(N,W):\n",
    "    #pass                  # your code here\n",
    "    prob=P_stupid_backoff(N,W)\n",
    "    return prob**(-1/(len(W)-1))#perplexity\n",
    "\n",
    "\n"
   ]
  },
  {
   "cell_type": "markdown",
   "metadata": {
    "id": "f5g1phQWGJVq"
   },
   "source": [
    "If we know that no probabilities can be 0,  then P is same as P_stupid_backoff"
   ]
  },
  {
   "cell_type": "code",
   "execution_count": 19,
   "metadata": {
    "colab": {
     "base_uri": "https://localhost:8080/"
    },
    "id": "oiWVTx-7GJVr",
    "outputId": "cbbee811-a6f3-4cf2-8cc7-10fab670cb73"
   },
   "outputs": [
    {
     "data": {
      "text/plain": [
       "186.11603730316466"
      ]
     },
     "execution_count": 19,
     "metadata": {},
     "output_type": "execute_result"
    }
   ],
   "source": [
    "PP(2,('<s>','The'))"
   ]
  },
  {
   "cell_type": "code",
   "execution_count": 20,
   "metadata": {
    "colab": {
     "base_uri": "https://localhost:8080/"
    },
    "id": "KQmo4plIGJVr",
    "outputId": "96f875bb-b81f-4ec5-faa9-c5f755ed855a"
   },
   "outputs": [
    {
     "data": {
      "text/plain": [
       "186.11603730316466"
      ]
     },
     "execution_count": 20,
     "metadata": {},
     "output_type": "execute_result"
    }
   ],
   "source": [
    "P(2,('<s>','The'))**(-1/1)"
   ]
  },
  {
   "cell_type": "code",
   "execution_count": 21,
   "metadata": {
    "colab": {
     "base_uri": "https://localhost:8080/"
    },
    "id": "8fglM6K_GJVs",
    "outputId": "46e487e6-e480-4b52-d9a7-2f1efb36afa0"
   },
   "outputs": [
    {
     "data": {
      "text/plain": [
       "186.11603730316466"
      ]
     },
     "execution_count": 21,
     "metadata": {},
     "output_type": "execute_result"
    }
   ],
   "source": [
    "P_stupid_backoff(2,('<s>','The'))**(-1/1)"
   ]
  },
  {
   "cell_type": "code",
   "execution_count": 22,
   "metadata": {
    "colab": {
     "base_uri": "https://localhost:8080/"
    },
    "id": "waWuAcntGJVs",
    "outputId": "02473fb4-3ca9-42cc-e621-86d77f2d101c"
   },
   "outputs": [
    {
     "data": {
      "text/plain": [
       "308.91157551766736"
      ]
     },
     "execution_count": 22,
     "metadata": {},
     "output_type": "execute_result"
    }
   ],
   "source": [
    "PP(2,('<s>','The','man','went'))"
   ]
  },
  {
   "cell_type": "code",
   "execution_count": 23,
   "metadata": {
    "colab": {
     "base_uri": "https://localhost:8080/"
    },
    "id": "iVlvsh-eGJVs",
    "outputId": "4c71d3d4-83e5-4913-b3bc-a7cfbe50cd1f"
   },
   "outputs": [
    {
     "data": {
      "text/plain": [
       "308.91157551766736"
      ]
     },
     "execution_count": 23,
     "metadata": {},
     "output_type": "execute_result"
    }
   ],
   "source": [
    "P(2,('<s>','The','man','went'))**(-1/3)"
   ]
  },
  {
   "cell_type": "code",
   "execution_count": 24,
   "metadata": {
    "colab": {
     "base_uri": "https://localhost:8080/"
    },
    "id": "FfcgU_ASGJVs",
    "outputId": "90788b6e-6709-457c-c4aa-639024aadca9"
   },
   "outputs": [
    {
     "data": {
      "text/plain": [
       "308.91157551766736"
      ]
     },
     "execution_count": 24,
     "metadata": {},
     "output_type": "execute_result"
    }
   ],
   "source": [
    "P_stupid_backoff(2,('<s>','The','man','went'))**(-1/3)"
   ]
  },
  {
   "cell_type": "code",
   "execution_count": 25,
   "metadata": {
    "colab": {
     "base_uri": "https://localhost:8080/"
    },
    "id": "ph630lTvGJVt",
    "outputId": "6425f1d9-4634-4dca-db5b-f6a0c6afd343"
   },
   "outputs": [
    {
     "data": {
      "text/plain": [
       "35.03849995731908"
      ]
     },
     "execution_count": 25,
     "metadata": {},
     "output_type": "execute_result"
    }
   ],
   "source": [
    "PP(2,('<s>','The','man','went','to','the', 'house','.','</s>'))"
   ]
  },
  {
   "cell_type": "code",
   "execution_count": 26,
   "metadata": {
    "colab": {
     "base_uri": "https://localhost:8080/"
    },
    "id": "VqaAqKz-GJVt",
    "outputId": "a9624b27-3830-4c44-a70c-bc475dce0185"
   },
   "outputs": [
    {
     "data": {
      "text/plain": [
       "35.03849995731908"
      ]
     },
     "execution_count": 26,
     "metadata": {},
     "output_type": "execute_result"
    }
   ],
   "source": [
    "P(2,('<s>','The','man','went','to','the', 'house','.','</s>'))**(-1/8)"
   ]
  },
  {
   "cell_type": "code",
   "execution_count": 27,
   "metadata": {
    "colab": {
     "base_uri": "https://localhost:8080/"
    },
    "id": "Wgbd_9I2GJVt",
    "outputId": "8aa05b22-fcee-4deb-c95d-f113092bcdf4"
   },
   "outputs": [
    {
     "data": {
      "text/plain": [
       "35.03849995731908"
      ]
     },
     "execution_count": 27,
     "metadata": {},
     "output_type": "execute_result"
    }
   ],
   "source": [
    "P_stupid_backoff(2,('<s>','The','man','went','to','the', 'house','.','</s>'))**(-1/8)"
   ]
  },
  {
   "cell_type": "markdown",
   "metadata": {
    "id": "NoHt5riRGJVu"
   },
   "source": [
    "When probabilities may be 0, we must use stupid backoff"
   ]
  },
  {
   "cell_type": "code",
   "execution_count": 28,
   "metadata": {
    "colab": {
     "base_uri": "https://localhost:8080/"
    },
    "id": "837QIpAYGJVu",
    "outputId": "8a6a2d8b-31c4-4135-ca4f-3a9c3e32bb0e"
   },
   "outputs": [
    {
     "data": {
      "text/plain": [
       "7692.8065013245405"
      ]
     },
     "execution_count": 28,
     "metadata": {},
     "output_type": "execute_result"
    }
   ],
   "source": [
    "PP(2,('<s>','where','is','the','grandstand'))"
   ]
  },
  {
   "cell_type": "code",
   "execution_count": 29,
   "metadata": {
    "colab": {
     "base_uri": "https://localhost:8080/"
    },
    "id": "IQwbXHqLGJVv",
    "outputId": "88bd708c-0580-4692-ca46-a6e84985e931"
   },
   "outputs": [
    {
     "data": {
      "text/plain": [
       "7692.8065013245405"
      ]
     },
     "execution_count": 29,
     "metadata": {},
     "output_type": "execute_result"
    }
   ],
   "source": [
    "P_stupid_backoff(2,('<s>','where','is','the','grandstand'))**(-1/4)"
   ]
  },
  {
   "cell_type": "code",
   "execution_count": 30,
   "metadata": {
    "colab": {
     "base_uri": "https://localhost:8080/"
    },
    "id": "mOv4g3l3GJVv",
    "outputId": "62e4e82d-7844-4e51-a7d4-7fba211ae5ad"
   },
   "outputs": [
    {
     "data": {
      "text/plain": [
       "8082.112259400884"
      ]
     },
     "execution_count": 30,
     "metadata": {},
     "output_type": "execute_result"
    }
   ],
   "source": [
    "PP(3,('<s>','where','is','the','grandstand'))"
   ]
  },
  {
   "cell_type": "code",
   "execution_count": 31,
   "metadata": {
    "colab": {
     "base_uri": "https://localhost:8080/"
    },
    "id": "CxjpRTzWGJVv",
    "outputId": "53b40fcc-c450-4646-d869-9189740c3a00"
   },
   "outputs": [
    {
     "data": {
      "text/plain": [
       "8082.112259400884"
      ]
     },
     "execution_count": 31,
     "metadata": {},
     "output_type": "execute_result"
    }
   ],
   "source": [
    "P_stupid_backoff(3,('<s>','where','is','the','grandstand'))**(-1/4)"
   ]
  },
  {
   "cell_type": "code",
   "execution_count": 32,
   "metadata": {
    "colab": {
     "base_uri": "https://localhost:8080/"
    },
    "id": "ow8N-x63GJVv",
    "outputId": "6b1d3a2b-cbb0-405c-8467-3cbb5a9075bb"
   },
   "outputs": [
    {
     "data": {
      "text/plain": [
       "8852.055970670379"
      ]
     },
     "execution_count": 32,
     "metadata": {},
     "output_type": "execute_result"
    }
   ],
   "source": [
    "PP(3,('<s>','The','grandstand','fell','down','</s>'))"
   ]
  },
  {
   "cell_type": "code",
   "execution_count": 33,
   "metadata": {
    "colab": {
     "base_uri": "https://localhost:8080/"
    },
    "id": "BpFweafZGJVw",
    "outputId": "010f2f5b-12c9-4e02-e672-f573b50912e5"
   },
   "outputs": [
    {
     "data": {
      "text/plain": [
       "8852.055970670379"
      ]
     },
     "execution_count": 33,
     "metadata": {},
     "output_type": "execute_result"
    }
   ],
   "source": [
    "P_stupid_backoff(3,('<s>','The','grandstand','fell','down','</s>'))**(-1/5)"
   ]
  },
  {
   "cell_type": "code",
   "execution_count": 34,
   "metadata": {
    "colab": {
     "base_uri": "https://localhost:8080/"
    },
    "id": "TGd7DH7MGJVw",
    "outputId": "7249671f-2dea-4ab9-b98f-79ef58d99d6a"
   },
   "outputs": [
    {
     "data": {
      "text/plain": [
       "15339.392368477242"
      ]
     },
     "execution_count": 34,
     "metadata": {},
     "output_type": "execute_result"
    }
   ],
   "source": [
    "PP(4,('<s>','The','grandstand','fell','down','</s>'))"
   ]
  },
  {
   "cell_type": "code",
   "execution_count": 35,
   "metadata": {
    "colab": {
     "base_uri": "https://localhost:8080/"
    },
    "id": "Vqe1LoFjGJVw",
    "outputId": "e391e84e-6bc2-4ec2-aea1-e0e608df6497"
   },
   "outputs": [
    {
     "data": {
      "text/plain": [
       "15339.392368477242"
      ]
     },
     "execution_count": 35,
     "metadata": {},
     "output_type": "execute_result"
    }
   ],
   "source": [
    "P_stupid_backoff(4,('<s>','The','grandstand','fell','down','</s>'))**(-1/5)"
   ]
  },
  {
   "cell_type": "markdown",
   "metadata": {
    "id": "akbL70qfGJVw"
   },
   "source": [
    "### Part D\n",
    "\n",
    "Print out the first ten sentences in the training set, with their perplexities to 2 decimal places, using trigrams.  Then do the\n",
    "same for the testing set.\n",
    "\n",
    "Print out the text of the sentences in a readable form, e.g., for a sentence `w`, print it out using\n",
    "\n",
    "    ' '.join(w[1:-1)\n",
    "    \n",
    "    \n",
    "Notice the perplexities of the training set are generally smaller than the testing set!"
   ]
  },
  {
   "cell_type": "code",
   "execution_count": 36,
   "metadata": {
    "colab": {
     "base_uri": "https://localhost:8080/"
    },
    "id": "78V8kWkuGJVw",
    "outputId": "0f11064e-2526-4b8e-a9a8-96b0493f8e0a",
    "scrolled": false
   },
   "outputs": [
    {
     "name": "stdout",
     "output_type": "stream",
     "text": [
      "10.76\tMuscle weakness did not improve , and the patient needed first a cane , then crutches .\n",
      "10.74\tHe replaced the flashlight where it had been stowed , got into his own car and backed it out of the garage .\n",
      "8.42\tWhen he had given the call a few moments thought , he went into the kitchen to ask Mrs. Yamata to prepare tea and sushi for the visitors , using the formal English china and the silver tea service which had been donated to the mission , then he went outside to inspect the grounds .\n",
      "10.04\t-- On the basis of a differentiability assumption in function space , it is possible to prove that , for materials having the property that the stress is given by a functional of the history of the deformation gradients , the classical theory of infinitesimal viscoelasticity is valid when the deformation has been infinitesimal for all times in the past .\n",
      "4.88\tShe said sharks have no bones and shrimp swam backward .\n",
      "9.62\tT. V. Barker , who developed the classification-angle system , was about to begin the systematic compilation of the index when he died in 1931 .\n",
      "10.32\tHe was then in man's hands .\n",
      "32.57\t4 .\n",
      "15.57\t`` Fifteen minutes , then ! !\n",
      "11.27\tThus the cocktail party would appear to be the ideal system , but there is one weakness .\n"
     ]
    }
   ],
   "source": [
    "# your code here\n",
    "for i in range(10):\n",
    "    t=training_sents[i]\n",
    "    print(f\"{PP(3,tuple(t)):.2f}\\t{' '.join(t[1:-1])}\")\n"
   ]
  },
  {
   "cell_type": "code",
   "execution_count": 37,
   "metadata": {
    "colab": {
     "base_uri": "https://localhost:8080/"
    },
    "id": "TaE8YPNGGJVw",
    "outputId": "fd6661fe-d70f-45bc-df04-4e1490854441"
   },
   "outputs": [
    {
     "name": "stdout",
     "output_type": "stream",
     "text": [
      "176.79\tIt is at least as important as the more dramatic attempts to break down barriers of inequality in the South .\n",
      "1306.74\tthe car's far windshield panel turned into a silver web with a dark hole in the center .\n",
      "69.22\t`` I was just thinking how things have changed .\n",
      "1071.75\tShe smiled , and the teeth gleamed in her beautifully modeled olive face .\n",
      "438.24\t`` There isn't a chance of Myra's letting anything like that happen .\n",
      "174.63\tOn the other hand , many a pastor is so absorbed in ministering to the intimate , personal needs of individuals in his congregation that he does little or nothing to lead them into a sense of social responsibility and world mission .\n",
      "923.70\tWe live down by the Base commissary .\n",
      "484.32\tFor example , the BBB has reported it was receiving four times as many inquiries about quack devices and 10 times as many complaints compared with two years ago .\n",
      "204.82\tAs a result , life had become a kind of continuous make-ready .\n",
      "210.44\tSome of the poems express a mood of joy in a newly discovered love ; ;\n"
     ]
    }
   ],
   "source": [
    "# your code here\n",
    "for i in range(10):\n",
    "    t=testing_sents[i]\n",
    "    print(f\"{PP(3,tuple(t)):.2f}\\t{' '.join(t[1:-1])}\")"
   ]
  },
  {
   "cell_type": "markdown",
   "metadata": {
    "id": "hZdjx_x9GJVw"
   },
   "source": [
    "### Part E\n",
    "\n",
    "Finally, we will find the perplexities of the the testing set with bigrams, trigrams, and quadrigrams.\n",
    "Complete the following template to verify that your results are consistent with the test results."
   ]
  },
  {
   "cell_type": "code",
   "execution_count": 38,
   "metadata": {
    "colab": {
     "base_uri": "https://localhost:8080/"
    },
    "id": "t2bJNcAOGJVx",
    "outputId": "e6b166bd-9c42-495f-a5c1-dba667a94005",
    "scrolled": false
   },
   "outputs": [
    {
     "name": "stdout",
     "output_type": "stream",
     "text": [
      "The perplexity of testing set for 2-grams is 387.\n",
      "The perplexity of testing set for 3-grams is 496.\n",
      "The perplexity of testing set for 4-grams is 957.\n"
     ]
    }
   ],
   "source": [
    "# Find all the probabilities of the sentences in the testing set, multiply them,\n",
    "# and take the $K^{th}$ root, where K is the number of tokens, excluding the <s> tokens.\n",
    "# So, K = (sum of length of sentences) - (# of sentences)\n",
    "\n",
    "# We need to take the product of many small probabilities, so use math.log and math.exp to avoid\n",
    "# underflow.\n",
    "\n",
    "# Print out the perplexity as an integer.\n",
    "\n",
    "import math\n",
    "\n",
    "# your code here\n",
    "for i in range(2,5):\n",
    "  total_prob=0\n",
    "  total_count=0\n",
    "  count=0\n",
    "  for j in testing_sents:\n",
    "    prob=P_stupid_backoff(i,tuple(j))#probabilities\n",
    "    total_prob+=math.log(prob)#sum of log probs\n",
    "    total_count+=len(j)# total length\n",
    "    count+=1#number of sentences\n",
    "  #print(total_prob)\n",
    "  pplog=total_prob*(-1/(total_count-count))\n",
    "  print(f\"The perplexity of testing set for {i}-grams is {int(math.exp(pplog))}.\")\n",
    "\n"
   ]
  },
  {
   "cell_type": "markdown",
   "metadata": {
    "id": "irdZ6reNGJVx"
   },
   "source": [
    "## Problem 3: Generative N-Gram Model\n",
    "\n",
    "\n",
    "Now we will consider how to generate sentences using our N-gram model.\n",
    "\n",
    "\n",
    "The idea is fairly simple.  Suppose we have model using N=4 (quadrigrams -- the algorithm for bigrams and trigrams\n",
    "is analogous):\n",
    "\n",
    "1. To get $w_1$, choose a bigram $(\\text{\"<s>\"}, w_1)$ randomly according the probability distribution stored in\n",
    "\n",
    "$$\\text{Ngram_distribution[2][ $(\\text{\"<s>\"}, w_1)$ ]}.$$\n",
    "\n",
    "2. To get $w_2$, choose a bigram $(\\text{\"<s>\"}, w_1, w_2)$ randomly according the probability distribution calculated as\n",
    "\n",
    "$$\\text{Ngram_distribution[3][ $(\\text{\"<s>\"},w_1,w_2)$ ]}\\ /\\ \\text{Ngram_distribution[2][ $(\\text{\"<s>\"},w_1)$ ]}.$$\n",
    "\n",
    "3. To get $w_3$, choose a trigram $(\\text{\"<s>\"}, w_1, w_2, w_3)$ randomly according the probability distribution calculated as\n",
    "\n",
    "$$\\text{Ngram_distribution[4][ $(\\text{\"<s>\"},w_1,w_2, w_3)$ ]}\\ /\\ \\text{Ngram_distribution[3][ $(\\text{\"<s>\"},w_1,w_2)$ ]}.$$\n",
    "\n",
    "4. Thereafter, for a sequence $(\\text{\"<s>\"}, w_1, w_2, \\ldots, w_{i-2}, w_{i-1})$, to get $w_i$, choose a\n",
    "quadrigram $(w_{i-3}, w_{i-2}, w_{i-1}, w_i)$ randomly according the probability distribution stored in\n",
    "\n",
    "$$\\text{Ngram_distribution[4][ $(w_{i-3}, w_{i-2}, w_{i-1},w_i)$ ]}\\ /\\ \\text{Ngram_distribution[3][ $(w_{i-3}, w_{i-2},w_{i-1})$ ]}.$$\n",
    "\n",
    "5. When we generate the end of sentence marker `<\\s>` we stop.\n",
    "\n",
    "The problem is that this is difficult if we simply use the formulae given above: what we need is\n",
    "a separate probability distribution for each prefix."
   ]
  },
  {
   "cell_type": "markdown",
   "metadata": {
    "id": "xPX5VJrYGJVx"
   },
   "source": [
    "### Part A\n",
    "\n",
    "The first step, under the assumption that we are working with N-grams for N = 1,2,3, or 4, is to build a data structure that can sample from the distribution of next tokens\n",
    "given an (N-1)-gram of left context.\n",
    "\n",
    "The best choice here is a nested default dictionary for N-grams for N = 2,3,4, the outer dictionary containing\n",
    "keys consisting of the first N-1 tokens (we'll call this the *prefix*), with the value being an inner dictionary holding a probability distribution for the last token (we'll call this *wn*).\n",
    "\n",
    "For this problem, you need to redo the construction of the list of N-grams and the distributions for\n",
    "each N, using the *entire* set of sentences, not just the testing set you used for the previous problems.\n",
    "You can easily do this by copying and pasting code from above.\n"
   ]
  },
  {
   "cell_type": "code",
   "execution_count": 39,
   "metadata": {
    "id": "YOfFOtJwGJVx"
   },
   "outputs": [],
   "source": [
    "All_Ngrams = [None]*5    # first slot is empty, then Ngram[1] will hold unigrams,\n",
    "                         # Ngram[2] will hold bigrams, etc.\n",
    "\n",
    "# your code here\n",
    "se=training_sents+testing_sents\n",
    "# now create for N = 1,2,3,4\n",
    "for i in range(1,5):\n",
    "  ngram_list=[]\n",
    "  for s in se:\n",
    "      ngram = get_Ngrams_for_sentence(i, s)\n",
    "      ngram_list+=ngram\n",
    "      All_Ngrams[i]=ngram_list#Ngrams for all sentences\n",
    "\n",
    "\n",
    "All_Ngram_distribution = [None]*5\n",
    "for i in range(1,5):\n",
    "  ngram_dict= get_Ngram_distribution(i,All_Ngrams)\n",
    "  ngram_dict_new=defaultdict(lambda:0)\n",
    "  for ngram, count in ngram_dict.items():\n",
    "    ngram_dict_new[ngram]=count/len(All_Ngrams[i])\n",
    "  #ngram_dict = {ngram: count / len(Ngrams[i]) for ngram, count in ngram_dict.items()}\n",
    "  All_Ngram_distribution[i]=ngram_dict_new#Ngram distribution for all sentences\n",
    "\n",
    "# your code here"
   ]
  },
  {
   "cell_type": "markdown",
   "metadata": {
    "id": "lxJxOqOSGJVx"
   },
   "source": [
    "### Part B\n",
    "\n",
    "Now we must build a data structure to solve the following problem: If we are working in\n",
    "an N-gram model for N = 2, 3, or 4, given a sequence of tokens\n",
    "\n",
    "$$ <s>\\ w_1\\ w_2\\ w_3\\ \\cdots w_i$$\n",
    "\n",
    "generate a sample word $w_{i+1}$ using the distribution of the N-grams of the form\n",
    "\n",
    "$$ w_{i-N+1}\\ \\cdots w_{i-1}\\ w_{i}\\  w_{i+1}.$$\n",
    "\n",
    "In other words, we use the last $N-1$ tokens of the sequence to determine a likely\n",
    "next token, given the distribution of N-grams starting with those $N-1$ tokens.\n",
    "\n",
    "The best way to do this is to build a nested dictionary. Let us call the first $N-1$ tokens\n",
    "in an N-gram the *prefix* and the last token $wn$. Then the outer dictionary\n",
    "is a `defaultdict` whose keys are the prefixes and values are an inner `defaultdict`\n",
    "whose keys are the $wn$ and whose values form a probability distribution for\n",
    "the ways that the prefix can be completed with a token $wn$.\n",
    "\n",
    "To give a simple example, suppose that in our corpus there are only the following bigrams whose\n",
    "first token is 'the':\n",
    "\n",
    "    ('the','boy'),    ('the','baby'),     ('the','baby'),    ('the','man')\n",
    "    \n",
    "Then our outer dictionary would have the prefix\n",
    "\n",
    "    ('the',)\n",
    "    \n",
    "as a key, and the inner dictionary would store the probability that each of 'boy', 'baby', and 'man'\n",
    "would follow 'the', as shown in the next code cell.\n",
    "\n",
    "Note that the prefix is an N-gram (a tuple) and $wn$ is simply a token."
   ]
  },
  {
   "cell_type": "code",
   "execution_count": 40,
   "metadata": {
    "colab": {
     "base_uri": "https://localhost:8080/"
    },
    "id": "vjA6t8w_GJVy",
    "outputId": "e9f1ac10-8793-4d37-88ed-fb80cde7edcf"
   },
   "outputs": [
    {
     "data": {
      "text/plain": [
       "defaultdict(<function __main__.<lambda>()>,\n",
       "            {('the',): defaultdict(<function __main__.<lambda>()>,\n",
       "                         {'boy': 0.25, 'man': 0.25, 'baby': 0.5})})"
      ]
     },
     "execution_count": 40,
     "metadata": {},
     "output_type": "execute_result"
    }
   ],
   "source": [
    "D = defaultdict(lambda: None)\n",
    "\n",
    "D[('the',)] = defaultdict(lambda: 0)\n",
    "D[('the',)]['boy'] = 0.25\n",
    "D[('the',)]['man'] = 0.25\n",
    "D[('the',)]['baby'] = 0.5\n",
    "\n",
    "D"
   ]
  },
  {
   "cell_type": "markdown",
   "metadata": {
    "id": "fxnX9X0bGJVy"
   },
   "source": [
    "Your task is to complete the following template and build a nested default dictionary giving\n",
    "the probability distributions for completions for (N-1)-grams.\n",
    "\n",
    "Hint:  For each N, you must create a `defaultdict` for all N-grams, whose key\n",
    "is the prefix and whose values are an inner `defaultdict`. For each N-gram,\n",
    "you should store the probability of the N-gram prefix+wn under the key $wn$.\n",
    "Then you must normalize these probabilities so that their sum is 1.0.\n",
    "\n",
    "The end result will be that if you look up a prefix (N-1 tokens), you will\n",
    "have a probability distribution of possible $wn$ which can be used for\n",
    "the next token."
   ]
  },
  {
   "cell_type": "code",
   "execution_count": 41,
   "metadata": {
    "id": "LWIdOPZeGJVy",
    "scrolled": false
   },
   "outputs": [],
   "source": [
    "# now build a dictionary of lists of completions, with probabilities\n",
    "# For N-gram, key is prefix, of length N-1, which returns a dictionary\n",
    "# with keys that are tokens (the last token wn in the N-gram), with\n",
    "# values the number of times that N-gram (prefix),wn occurs.\n",
    "\n",
    "# N here is the length of the whole N-gram, so the prefix is of length N-1\n",
    "\n",
    "def get_Ngram_dict(N):\n",
    "    ndict = defaultdict(lambda: defaultdict(lambda:0))\n",
    "    for i,j in All_Ngram_distribution[N].items():\n",
    "      ndict[i[:N-1]][i[N-1]]=j #Nested Dictionary Population\n",
    "    for i in list(ndict.keys()):\n",
    "      ndict[i] = {key: value / sum(ndict[i].values()) for key, value in ndict[i].items()} #Probability Population\n",
    "    return ndict\n",
    "\n",
    "\n",
    "\n",
    "\n",
    "    #pass           # your code here\n",
    "\n",
    "Ngram_nested_dict = [None]*5\n",
    "\n",
    "for n in range(2,5):\n",
    "    Ngram_nested_dict[n] = get_Ngram_dict(n)\n",
    "\n"
   ]
  },
  {
   "cell_type": "code",
   "execution_count": 42,
   "metadata": {
    "colab": {
     "base_uri": "https://localhost:8080/"
    },
    "id": "ir4G7ae1GJVy",
    "outputId": "9463f6f2-bc32-4d6f-ea67-60e38cca8b3f"
   },
   "outputs": [
    {
     "data": {
      "text/plain": [
       "1.0000000000002396"
      ]
     },
     "execution_count": 42,
     "metadata": {},
     "output_type": "execute_result"
    }
   ],
   "source": [
    "# tests: these should sum to (close to) 1.0\n",
    "\n",
    "sum(Ngram_nested_dict[2][('<s>',)].values())"
   ]
  },
  {
   "cell_type": "code",
   "execution_count": 43,
   "metadata": {
    "colab": {
     "base_uri": "https://localhost:8080/"
    },
    "id": "lC32v2ULGJVy",
    "outputId": "e925b620-7f2a-4a59-f133-9607ce14d8d8"
   },
   "outputs": [
    {
     "data": {
      "text/plain": [
       "0.9999999999999709"
      ]
     },
     "execution_count": 43,
     "metadata": {},
     "output_type": "execute_result"
    }
   ],
   "source": [
    "sum(Ngram_nested_dict[3][('<s>','The')].values())"
   ]
  },
  {
   "cell_type": "code",
   "execution_count": 44,
   "metadata": {
    "colab": {
     "base_uri": "https://localhost:8080/"
    },
    "id": "D7AUGKGFGJVy",
    "outputId": "9259eded-ac24-4679-aff6-b60a77d2a313"
   },
   "outputs": [
    {
     "data": {
      "text/plain": [
       "1.0000000000000013"
      ]
     },
     "execution_count": 44,
     "metadata": {},
     "output_type": "execute_result"
    }
   ],
   "source": [
    "sum(Ngram_nested_dict[4][('<s>','When', 'the')].values())"
   ]
  },
  {
   "cell_type": "markdown",
   "metadata": {
    "id": "XRDkGTu9GJVz"
   },
   "source": [
    "### Part C\n",
    "\n",
    "Now that we have a way of sampling the next likely word, we will write\n",
    "a function which will predict the next word. You must sample from the\n",
    "probability distribution given a prefix, to choose a likely next word.\n",
    "\n",
    "Hint:  read about `numpy.random.choice`, in particular how you can set the parameter `p`\n",
    "to determine the probability of selecting a given key from the dictionary."
   ]
  },
  {
   "cell_type": "code",
   "execution_count": 45,
   "metadata": {
    "id": "43ep81UnGJVz",
    "scrolled": false
   },
   "outputs": [],
   "source": [
    "# given a prefix, randomly choose next token using the appropriate probability distribution\n",
    "\n",
    "#  len(prefix) must be 1, 2, 3, or 4\n",
    "\n",
    "def next_word(prefix):\n",
    "\n",
    "    #pass           # your code here\n",
    "    #print(Ngram_nested_dict[len(prefix)+1][prefix])\n",
    "    return np.random.choice(list(Ngram_nested_dict[len(prefix)+1][prefix].keys()),p=list(Ngram_nested_dict[len(prefix)+1][prefix].values()))#keys are prefix and values are probs\n"
   ]
  },
  {
   "cell_type": "code",
   "execution_count": 46,
   "metadata": {
    "colab": {
     "base_uri": "https://localhost:8080/",
     "height": 37
    },
    "id": "q3c2C7jZGJVz",
    "outputId": "d8d5ab11-522f-4247-d8e2-c3548a38d3a2"
   },
   "outputs": [
    {
     "data": {
      "application/vnd.google.colaboratory.intrinsic+json": {
       "type": "string"
      },
      "text/plain": [
       "'You'"
      ]
     },
     "execution_count": 46,
     "metadata": {},
     "output_type": "execute_result"
    }
   ],
   "source": [
    "# tests\n",
    "\n",
    "next_word(('<s>',))"
   ]
  },
  {
   "cell_type": "code",
   "execution_count": 47,
   "metadata": {
    "colab": {
     "base_uri": "https://localhost:8080/",
     "height": 37
    },
    "id": "UJ7uWUC1GJVz",
    "outputId": "ef786e09-dd79-4f97-f97d-0538f9c9f69e"
   },
   "outputs": [
    {
     "data": {
      "application/vnd.google.colaboratory.intrinsic+json": {
       "type": "string"
      },
      "text/plain": [
       "'unhealthy'"
      ]
     },
     "execution_count": 47,
     "metadata": {},
     "output_type": "execute_result"
    }
   ],
   "source": [
    "next_word(('<s>','The'))"
   ]
  },
  {
   "cell_type": "code",
   "execution_count": 48,
   "metadata": {
    "colab": {
     "base_uri": "https://localhost:8080/",
     "height": 37
    },
    "id": "A2TSrb4jGJVz",
    "outputId": "c69ae562-1f28-4301-edb8-2d38b785c562"
   },
   "outputs": [
    {
     "data": {
      "application/vnd.google.colaboratory.intrinsic+json": {
       "type": "string"
      },
      "text/plain": [
       "'moved'"
      ]
     },
     "execution_count": 48,
     "metadata": {},
     "output_type": "execute_result"
    }
   ],
   "source": [
    "next_word(('<s>','The','man'))"
   ]
  },
  {
   "cell_type": "markdown",
   "metadata": {
    "id": "mQZHz6L0GJVz"
   },
   "source": [
    "### Part D\n",
    "\n",
    "Complete the following template to generate a random sentence by starting with\n",
    "the unigram `('<s>',)` and extending it by sampling until you generate the token `</s>`."
   ]
  },
  {
   "cell_type": "code",
   "execution_count": 49,
   "metadata": {
    "id": "UhBlZOKUGJVz",
    "scrolled": true
   },
   "outputs": [],
   "source": [
    "# N is the parameter in N-gram\n",
    "\n",
    "def generate_sentence(N):\n",
    "    prefix=['<s>']\n",
    "    for i in range(N-2):\n",
    "      prefix.append(next_word(tuple(prefix)))#generate initial context of N-1 length\n",
    "      #print(prefix,\"Hi\")\n",
    "    while prefix[-1]!='</s>':\n",
    "      #print(prefix[-N+1:])\n",
    "      prefix.append(next_word(tuple(prefix[-N+1:])))#populate the entire sentence\n",
    "    return tuple(prefix)\n",
    "\n",
    "    #pass           # your code here\n"
   ]
  },
  {
   "cell_type": "code",
   "execution_count": 50,
   "metadata": {
    "colab": {
     "base_uri": "https://localhost:8080/"
    },
    "id": "u5dLwO28GJVz",
    "outputId": "39e305f7-5d5b-42a2-9068-7f49a3741554"
   },
   "outputs": [
    {
     "name": "stdout",
     "output_type": "stream",
     "text": [
      "38.07 Nonsense '' . \n",
      "\n",
      "10.36 At any rate , the Pontiff believes that what he said , `` I will come through the school bill , it finds itself driven to the plane with the ordinary issue of referral where the Szold girls -- a conviction , but that didn't matter . \n",
      "\n",
      "2.29 Again , a force too strong for unfrozen bodies to endure would be applied . \n",
      "\n"
     ]
    }
   ],
   "source": [
    "# tests  -- run this cell many times!\n",
    "\n",
    "\n",
    "\n",
    "w1 = generate_sentence(2)\n",
    "\n",
    "print(np.around(PP(2,w1),2), ' '.join(w1[1:-1]),'\\n')\n",
    "\n",
    "w2 = generate_sentence(3)\n",
    "\n",
    "print(np.around(PP(3,w2),2), ' '.join(w2[1:-1]),'\\n')\n",
    "\n",
    "w3 = generate_sentence(4)\n",
    "\n",
    "print(np.around(PP(4,w3),2), ' '.join(w3[1:-1]),'\\n')\n"
   ]
  },
  {
   "cell_type": "markdown",
   "metadata": {
    "id": "3UCG3kmRGJV0"
   },
   "source": [
    "### Part E\n",
    "\n",
    "Experiment with generating sentences for various values of N = 2, 3, 4. How do the perplexities compare?  Do you see a difference\n",
    "in the quality of the sentences? How well does it do with punctuation and quotes?\n",
    "\n",
    "The typical view is that for larger values of N,\n",
    "the model is just \"memorizing\" the corpus. Do you think this is true? (You might look through\n",
    "the corpus to see what relationship your generated sentences, say for N = 4, have with\n",
    "the sentences in the corpus."
   ]
  },
  {
   "cell_type": "markdown",
   "metadata": {
    "id": "l39O0XB0GJV0"
   },
   "source": [
    "1. The perplexities reduce as the amount of context information increases. So higher prefix Ngrams like 4,5,6 made more sense than 1,2,3.\n",
    "2. The quality of sentence increases with more Ngram prefix.\n",
    "3. The punctuations also start falling in better places when context information increase like the 4 gram sentence generated above places the ',' at the correct position however previous two places random punctuations but they can still be much random.\n",
    "4. Yes, as the values of N become larger the sentences start aligning more with the corpus sentences. So it is true that it has started memorizing."
   ]
  }
 ],
 "metadata": {
  "colab": {
   "provenance": []
  },
  "kernelspec": {
   "display_name": "Python 3 (ipykernel)",
   "language": "python",
   "name": "python3"
  },
  "language_info": {
   "codemirror_mode": {
    "name": "ipython",
    "version": 3
   },
   "file_extension": ".py",
   "mimetype": "text/x-python",
   "name": "python",
   "nbconvert_exporter": "python",
   "pygments_lexer": "ipython3",
   "version": "3.10.10"
  }
 },
 "nbformat": 4,
 "nbformat_minor": 1
}
